{
  "nbformat": 4,
  "nbformat_minor": 0,
  "metadata": {
    "colab": {
      "provenance": []
    },
    "kernelspec": {
      "name": "python3",
      "display_name": "Python 3"
    },
    "language_info": {
      "name": "python"
    },
    "widgets": {
      "application/vnd.jupyter.widget-state+json": {
        "6864ed9cee6e4679ad4d598e1897c4af": {
          "model_module": "@jupyter-widgets/controls",
          "model_name": "HBoxModel",
          "model_module_version": "1.5.0",
          "state": {
            "_dom_classes": [],
            "_model_module": "@jupyter-widgets/controls",
            "_model_module_version": "1.5.0",
            "_model_name": "HBoxModel",
            "_view_count": null,
            "_view_module": "@jupyter-widgets/controls",
            "_view_module_version": "1.5.0",
            "_view_name": "HBoxView",
            "box_style": "",
            "children": [
              "IPY_MODEL_68da13a53bd44461890fa104471c5d2c",
              "IPY_MODEL_8ee65f47d91e4fc3ad02dd86ba6dc987",
              "IPY_MODEL_42b72496d2e3499d80892e78724b77a9"
            ],
            "layout": "IPY_MODEL_4b6b0506809d4b36922b75dfd2d8f68e"
          }
        },
        "68da13a53bd44461890fa104471c5d2c": {
          "model_module": "@jupyter-widgets/controls",
          "model_name": "HTMLModel",
          "model_module_version": "1.5.0",
          "state": {
            "_dom_classes": [],
            "_model_module": "@jupyter-widgets/controls",
            "_model_module_version": "1.5.0",
            "_model_name": "HTMLModel",
            "_view_count": null,
            "_view_module": "@jupyter-widgets/controls",
            "_view_module_version": "1.5.0",
            "_view_name": "HTMLView",
            "description": "",
            "description_tooltip": null,
            "layout": "IPY_MODEL_0a43918e79d84f37ad6c553f08d37526",
            "placeholder": "​",
            "style": "IPY_MODEL_d8bbe8d5ec794689a859e8bef44a5655",
            "value": "tokenizer_config.json: 100%"
          }
        },
        "8ee65f47d91e4fc3ad02dd86ba6dc987": {
          "model_module": "@jupyter-widgets/controls",
          "model_name": "FloatProgressModel",
          "model_module_version": "1.5.0",
          "state": {
            "_dom_classes": [],
            "_model_module": "@jupyter-widgets/controls",
            "_model_module_version": "1.5.0",
            "_model_name": "FloatProgressModel",
            "_view_count": null,
            "_view_module": "@jupyter-widgets/controls",
            "_view_module_version": "1.5.0",
            "_view_name": "ProgressView",
            "bar_style": "success",
            "description": "",
            "description_tooltip": null,
            "layout": "IPY_MODEL_d6895163197e4acb94959b82a431b373",
            "max": 48,
            "min": 0,
            "orientation": "horizontal",
            "style": "IPY_MODEL_b4e0c58f94d344b3a1d6cc976303511a",
            "value": 48
          }
        },
        "42b72496d2e3499d80892e78724b77a9": {
          "model_module": "@jupyter-widgets/controls",
          "model_name": "HTMLModel",
          "model_module_version": "1.5.0",
          "state": {
            "_dom_classes": [],
            "_model_module": "@jupyter-widgets/controls",
            "_model_module_version": "1.5.0",
            "_model_name": "HTMLModel",
            "_view_count": null,
            "_view_module": "@jupyter-widgets/controls",
            "_view_module_version": "1.5.0",
            "_view_name": "HTMLView",
            "description": "",
            "description_tooltip": null,
            "layout": "IPY_MODEL_283d19399e834c7bbc2e1edb422aad69",
            "placeholder": "​",
            "style": "IPY_MODEL_c55104fb0cf64411a65201b860243b53",
            "value": " 48.0/48.0 [00:00&lt;00:00, 3.91kB/s]"
          }
        },
        "4b6b0506809d4b36922b75dfd2d8f68e": {
          "model_module": "@jupyter-widgets/base",
          "model_name": "LayoutModel",
          "model_module_version": "1.2.0",
          "state": {
            "_model_module": "@jupyter-widgets/base",
            "_model_module_version": "1.2.0",
            "_model_name": "LayoutModel",
            "_view_count": null,
            "_view_module": "@jupyter-widgets/base",
            "_view_module_version": "1.2.0",
            "_view_name": "LayoutView",
            "align_content": null,
            "align_items": null,
            "align_self": null,
            "border": null,
            "bottom": null,
            "display": null,
            "flex": null,
            "flex_flow": null,
            "grid_area": null,
            "grid_auto_columns": null,
            "grid_auto_flow": null,
            "grid_auto_rows": null,
            "grid_column": null,
            "grid_gap": null,
            "grid_row": null,
            "grid_template_areas": null,
            "grid_template_columns": null,
            "grid_template_rows": null,
            "height": null,
            "justify_content": null,
            "justify_items": null,
            "left": null,
            "margin": null,
            "max_height": null,
            "max_width": null,
            "min_height": null,
            "min_width": null,
            "object_fit": null,
            "object_position": null,
            "order": null,
            "overflow": null,
            "overflow_x": null,
            "overflow_y": null,
            "padding": null,
            "right": null,
            "top": null,
            "visibility": null,
            "width": null
          }
        },
        "0a43918e79d84f37ad6c553f08d37526": {
          "model_module": "@jupyter-widgets/base",
          "model_name": "LayoutModel",
          "model_module_version": "1.2.0",
          "state": {
            "_model_module": "@jupyter-widgets/base",
            "_model_module_version": "1.2.0",
            "_model_name": "LayoutModel",
            "_view_count": null,
            "_view_module": "@jupyter-widgets/base",
            "_view_module_version": "1.2.0",
            "_view_name": "LayoutView",
            "align_content": null,
            "align_items": null,
            "align_self": null,
            "border": null,
            "bottom": null,
            "display": null,
            "flex": null,
            "flex_flow": null,
            "grid_area": null,
            "grid_auto_columns": null,
            "grid_auto_flow": null,
            "grid_auto_rows": null,
            "grid_column": null,
            "grid_gap": null,
            "grid_row": null,
            "grid_template_areas": null,
            "grid_template_columns": null,
            "grid_template_rows": null,
            "height": null,
            "justify_content": null,
            "justify_items": null,
            "left": null,
            "margin": null,
            "max_height": null,
            "max_width": null,
            "min_height": null,
            "min_width": null,
            "object_fit": null,
            "object_position": null,
            "order": null,
            "overflow": null,
            "overflow_x": null,
            "overflow_y": null,
            "padding": null,
            "right": null,
            "top": null,
            "visibility": null,
            "width": null
          }
        },
        "d8bbe8d5ec794689a859e8bef44a5655": {
          "model_module": "@jupyter-widgets/controls",
          "model_name": "DescriptionStyleModel",
          "model_module_version": "1.5.0",
          "state": {
            "_model_module": "@jupyter-widgets/controls",
            "_model_module_version": "1.5.0",
            "_model_name": "DescriptionStyleModel",
            "_view_count": null,
            "_view_module": "@jupyter-widgets/base",
            "_view_module_version": "1.2.0",
            "_view_name": "StyleView",
            "description_width": ""
          }
        },
        "d6895163197e4acb94959b82a431b373": {
          "model_module": "@jupyter-widgets/base",
          "model_name": "LayoutModel",
          "model_module_version": "1.2.0",
          "state": {
            "_model_module": "@jupyter-widgets/base",
            "_model_module_version": "1.2.0",
            "_model_name": "LayoutModel",
            "_view_count": null,
            "_view_module": "@jupyter-widgets/base",
            "_view_module_version": "1.2.0",
            "_view_name": "LayoutView",
            "align_content": null,
            "align_items": null,
            "align_self": null,
            "border": null,
            "bottom": null,
            "display": null,
            "flex": null,
            "flex_flow": null,
            "grid_area": null,
            "grid_auto_columns": null,
            "grid_auto_flow": null,
            "grid_auto_rows": null,
            "grid_column": null,
            "grid_gap": null,
            "grid_row": null,
            "grid_template_areas": null,
            "grid_template_columns": null,
            "grid_template_rows": null,
            "height": null,
            "justify_content": null,
            "justify_items": null,
            "left": null,
            "margin": null,
            "max_height": null,
            "max_width": null,
            "min_height": null,
            "min_width": null,
            "object_fit": null,
            "object_position": null,
            "order": null,
            "overflow": null,
            "overflow_x": null,
            "overflow_y": null,
            "padding": null,
            "right": null,
            "top": null,
            "visibility": null,
            "width": null
          }
        },
        "b4e0c58f94d344b3a1d6cc976303511a": {
          "model_module": "@jupyter-widgets/controls",
          "model_name": "ProgressStyleModel",
          "model_module_version": "1.5.0",
          "state": {
            "_model_module": "@jupyter-widgets/controls",
            "_model_module_version": "1.5.0",
            "_model_name": "ProgressStyleModel",
            "_view_count": null,
            "_view_module": "@jupyter-widgets/base",
            "_view_module_version": "1.2.0",
            "_view_name": "StyleView",
            "bar_color": null,
            "description_width": ""
          }
        },
        "283d19399e834c7bbc2e1edb422aad69": {
          "model_module": "@jupyter-widgets/base",
          "model_name": "LayoutModel",
          "model_module_version": "1.2.0",
          "state": {
            "_model_module": "@jupyter-widgets/base",
            "_model_module_version": "1.2.0",
            "_model_name": "LayoutModel",
            "_view_count": null,
            "_view_module": "@jupyter-widgets/base",
            "_view_module_version": "1.2.0",
            "_view_name": "LayoutView",
            "align_content": null,
            "align_items": null,
            "align_self": null,
            "border": null,
            "bottom": null,
            "display": null,
            "flex": null,
            "flex_flow": null,
            "grid_area": null,
            "grid_auto_columns": null,
            "grid_auto_flow": null,
            "grid_auto_rows": null,
            "grid_column": null,
            "grid_gap": null,
            "grid_row": null,
            "grid_template_areas": null,
            "grid_template_columns": null,
            "grid_template_rows": null,
            "height": null,
            "justify_content": null,
            "justify_items": null,
            "left": null,
            "margin": null,
            "max_height": null,
            "max_width": null,
            "min_height": null,
            "min_width": null,
            "object_fit": null,
            "object_position": null,
            "order": null,
            "overflow": null,
            "overflow_x": null,
            "overflow_y": null,
            "padding": null,
            "right": null,
            "top": null,
            "visibility": null,
            "width": null
          }
        },
        "c55104fb0cf64411a65201b860243b53": {
          "model_module": "@jupyter-widgets/controls",
          "model_name": "DescriptionStyleModel",
          "model_module_version": "1.5.0",
          "state": {
            "_model_module": "@jupyter-widgets/controls",
            "_model_module_version": "1.5.0",
            "_model_name": "DescriptionStyleModel",
            "_view_count": null,
            "_view_module": "@jupyter-widgets/base",
            "_view_module_version": "1.2.0",
            "_view_name": "StyleView",
            "description_width": ""
          }
        },
        "d59b011f514149a49a170f5ff0c594ee": {
          "model_module": "@jupyter-widgets/controls",
          "model_name": "HBoxModel",
          "model_module_version": "1.5.0",
          "state": {
            "_dom_classes": [],
            "_model_module": "@jupyter-widgets/controls",
            "_model_module_version": "1.5.0",
            "_model_name": "HBoxModel",
            "_view_count": null,
            "_view_module": "@jupyter-widgets/controls",
            "_view_module_version": "1.5.0",
            "_view_name": "HBoxView",
            "box_style": "",
            "children": [
              "IPY_MODEL_3ee99038f9164394b15eb64c88de398b",
              "IPY_MODEL_a9481ee8352d4eab92fcd544a3cf190c",
              "IPY_MODEL_ee56d7bdcdd74ebcacebb5f1d4f3416f"
            ],
            "layout": "IPY_MODEL_299810713e4a47f1b23603cf4e5e75f2"
          }
        },
        "3ee99038f9164394b15eb64c88de398b": {
          "model_module": "@jupyter-widgets/controls",
          "model_name": "HTMLModel",
          "model_module_version": "1.5.0",
          "state": {
            "_dom_classes": [],
            "_model_module": "@jupyter-widgets/controls",
            "_model_module_version": "1.5.0",
            "_model_name": "HTMLModel",
            "_view_count": null,
            "_view_module": "@jupyter-widgets/controls",
            "_view_module_version": "1.5.0",
            "_view_name": "HTMLView",
            "description": "",
            "description_tooltip": null,
            "layout": "IPY_MODEL_022ae3829a5848f493de7966bf792964",
            "placeholder": "​",
            "style": "IPY_MODEL_a23794112b6941e29c0668e1517c2e50",
            "value": "vocab.txt: 100%"
          }
        },
        "a9481ee8352d4eab92fcd544a3cf190c": {
          "model_module": "@jupyter-widgets/controls",
          "model_name": "FloatProgressModel",
          "model_module_version": "1.5.0",
          "state": {
            "_dom_classes": [],
            "_model_module": "@jupyter-widgets/controls",
            "_model_module_version": "1.5.0",
            "_model_name": "FloatProgressModel",
            "_view_count": null,
            "_view_module": "@jupyter-widgets/controls",
            "_view_module_version": "1.5.0",
            "_view_name": "ProgressView",
            "bar_style": "success",
            "description": "",
            "description_tooltip": null,
            "layout": "IPY_MODEL_caeaecb16cac458080ab4b092ccc6a6f",
            "max": 231508,
            "min": 0,
            "orientation": "horizontal",
            "style": "IPY_MODEL_913945e1cc6c4056a8b5572fc08a97cd",
            "value": 231508
          }
        },
        "ee56d7bdcdd74ebcacebb5f1d4f3416f": {
          "model_module": "@jupyter-widgets/controls",
          "model_name": "HTMLModel",
          "model_module_version": "1.5.0",
          "state": {
            "_dom_classes": [],
            "_model_module": "@jupyter-widgets/controls",
            "_model_module_version": "1.5.0",
            "_model_name": "HTMLModel",
            "_view_count": null,
            "_view_module": "@jupyter-widgets/controls",
            "_view_module_version": "1.5.0",
            "_view_name": "HTMLView",
            "description": "",
            "description_tooltip": null,
            "layout": "IPY_MODEL_dbc9bf023c4d48f095b8b69bdc82c651",
            "placeholder": "​",
            "style": "IPY_MODEL_fe0cbc51b8dd4df6aab7bc3d34ab3321",
            "value": " 232k/232k [00:00&lt;00:00, 4.35MB/s]"
          }
        },
        "299810713e4a47f1b23603cf4e5e75f2": {
          "model_module": "@jupyter-widgets/base",
          "model_name": "LayoutModel",
          "model_module_version": "1.2.0",
          "state": {
            "_model_module": "@jupyter-widgets/base",
            "_model_module_version": "1.2.0",
            "_model_name": "LayoutModel",
            "_view_count": null,
            "_view_module": "@jupyter-widgets/base",
            "_view_module_version": "1.2.0",
            "_view_name": "LayoutView",
            "align_content": null,
            "align_items": null,
            "align_self": null,
            "border": null,
            "bottom": null,
            "display": null,
            "flex": null,
            "flex_flow": null,
            "grid_area": null,
            "grid_auto_columns": null,
            "grid_auto_flow": null,
            "grid_auto_rows": null,
            "grid_column": null,
            "grid_gap": null,
            "grid_row": null,
            "grid_template_areas": null,
            "grid_template_columns": null,
            "grid_template_rows": null,
            "height": null,
            "justify_content": null,
            "justify_items": null,
            "left": null,
            "margin": null,
            "max_height": null,
            "max_width": null,
            "min_height": null,
            "min_width": null,
            "object_fit": null,
            "object_position": null,
            "order": null,
            "overflow": null,
            "overflow_x": null,
            "overflow_y": null,
            "padding": null,
            "right": null,
            "top": null,
            "visibility": null,
            "width": null
          }
        },
        "022ae3829a5848f493de7966bf792964": {
          "model_module": "@jupyter-widgets/base",
          "model_name": "LayoutModel",
          "model_module_version": "1.2.0",
          "state": {
            "_model_module": "@jupyter-widgets/base",
            "_model_module_version": "1.2.0",
            "_model_name": "LayoutModel",
            "_view_count": null,
            "_view_module": "@jupyter-widgets/base",
            "_view_module_version": "1.2.0",
            "_view_name": "LayoutView",
            "align_content": null,
            "align_items": null,
            "align_self": null,
            "border": null,
            "bottom": null,
            "display": null,
            "flex": null,
            "flex_flow": null,
            "grid_area": null,
            "grid_auto_columns": null,
            "grid_auto_flow": null,
            "grid_auto_rows": null,
            "grid_column": null,
            "grid_gap": null,
            "grid_row": null,
            "grid_template_areas": null,
            "grid_template_columns": null,
            "grid_template_rows": null,
            "height": null,
            "justify_content": null,
            "justify_items": null,
            "left": null,
            "margin": null,
            "max_height": null,
            "max_width": null,
            "min_height": null,
            "min_width": null,
            "object_fit": null,
            "object_position": null,
            "order": null,
            "overflow": null,
            "overflow_x": null,
            "overflow_y": null,
            "padding": null,
            "right": null,
            "top": null,
            "visibility": null,
            "width": null
          }
        },
        "a23794112b6941e29c0668e1517c2e50": {
          "model_module": "@jupyter-widgets/controls",
          "model_name": "DescriptionStyleModel",
          "model_module_version": "1.5.0",
          "state": {
            "_model_module": "@jupyter-widgets/controls",
            "_model_module_version": "1.5.0",
            "_model_name": "DescriptionStyleModel",
            "_view_count": null,
            "_view_module": "@jupyter-widgets/base",
            "_view_module_version": "1.2.0",
            "_view_name": "StyleView",
            "description_width": ""
          }
        },
        "caeaecb16cac458080ab4b092ccc6a6f": {
          "model_module": "@jupyter-widgets/base",
          "model_name": "LayoutModel",
          "model_module_version": "1.2.0",
          "state": {
            "_model_module": "@jupyter-widgets/base",
            "_model_module_version": "1.2.0",
            "_model_name": "LayoutModel",
            "_view_count": null,
            "_view_module": "@jupyter-widgets/base",
            "_view_module_version": "1.2.0",
            "_view_name": "LayoutView",
            "align_content": null,
            "align_items": null,
            "align_self": null,
            "border": null,
            "bottom": null,
            "display": null,
            "flex": null,
            "flex_flow": null,
            "grid_area": null,
            "grid_auto_columns": null,
            "grid_auto_flow": null,
            "grid_auto_rows": null,
            "grid_column": null,
            "grid_gap": null,
            "grid_row": null,
            "grid_template_areas": null,
            "grid_template_columns": null,
            "grid_template_rows": null,
            "height": null,
            "justify_content": null,
            "justify_items": null,
            "left": null,
            "margin": null,
            "max_height": null,
            "max_width": null,
            "min_height": null,
            "min_width": null,
            "object_fit": null,
            "object_position": null,
            "order": null,
            "overflow": null,
            "overflow_x": null,
            "overflow_y": null,
            "padding": null,
            "right": null,
            "top": null,
            "visibility": null,
            "width": null
          }
        },
        "913945e1cc6c4056a8b5572fc08a97cd": {
          "model_module": "@jupyter-widgets/controls",
          "model_name": "ProgressStyleModel",
          "model_module_version": "1.5.0",
          "state": {
            "_model_module": "@jupyter-widgets/controls",
            "_model_module_version": "1.5.0",
            "_model_name": "ProgressStyleModel",
            "_view_count": null,
            "_view_module": "@jupyter-widgets/base",
            "_view_module_version": "1.2.0",
            "_view_name": "StyleView",
            "bar_color": null,
            "description_width": ""
          }
        },
        "dbc9bf023c4d48f095b8b69bdc82c651": {
          "model_module": "@jupyter-widgets/base",
          "model_name": "LayoutModel",
          "model_module_version": "1.2.0",
          "state": {
            "_model_module": "@jupyter-widgets/base",
            "_model_module_version": "1.2.0",
            "_model_name": "LayoutModel",
            "_view_count": null,
            "_view_module": "@jupyter-widgets/base",
            "_view_module_version": "1.2.0",
            "_view_name": "LayoutView",
            "align_content": null,
            "align_items": null,
            "align_self": null,
            "border": null,
            "bottom": null,
            "display": null,
            "flex": null,
            "flex_flow": null,
            "grid_area": null,
            "grid_auto_columns": null,
            "grid_auto_flow": null,
            "grid_auto_rows": null,
            "grid_column": null,
            "grid_gap": null,
            "grid_row": null,
            "grid_template_areas": null,
            "grid_template_columns": null,
            "grid_template_rows": null,
            "height": null,
            "justify_content": null,
            "justify_items": null,
            "left": null,
            "margin": null,
            "max_height": null,
            "max_width": null,
            "min_height": null,
            "min_width": null,
            "object_fit": null,
            "object_position": null,
            "order": null,
            "overflow": null,
            "overflow_x": null,
            "overflow_y": null,
            "padding": null,
            "right": null,
            "top": null,
            "visibility": null,
            "width": null
          }
        },
        "fe0cbc51b8dd4df6aab7bc3d34ab3321": {
          "model_module": "@jupyter-widgets/controls",
          "model_name": "DescriptionStyleModel",
          "model_module_version": "1.5.0",
          "state": {
            "_model_module": "@jupyter-widgets/controls",
            "_model_module_version": "1.5.0",
            "_model_name": "DescriptionStyleModel",
            "_view_count": null,
            "_view_module": "@jupyter-widgets/base",
            "_view_module_version": "1.2.0",
            "_view_name": "StyleView",
            "description_width": ""
          }
        },
        "016c4b4eb11c4bd993cae836a117aead": {
          "model_module": "@jupyter-widgets/controls",
          "model_name": "HBoxModel",
          "model_module_version": "1.5.0",
          "state": {
            "_dom_classes": [],
            "_model_module": "@jupyter-widgets/controls",
            "_model_module_version": "1.5.0",
            "_model_name": "HBoxModel",
            "_view_count": null,
            "_view_module": "@jupyter-widgets/controls",
            "_view_module_version": "1.5.0",
            "_view_name": "HBoxView",
            "box_style": "",
            "children": [
              "IPY_MODEL_0f155782cbee4f8dac54bf3675df1118",
              "IPY_MODEL_55c2dba79b714c2f92556091dd641ecd",
              "IPY_MODEL_386dd23f0e614eeda5822e8cacba677e"
            ],
            "layout": "IPY_MODEL_fcdb83177ebc47418dff96d4d816603d"
          }
        },
        "0f155782cbee4f8dac54bf3675df1118": {
          "model_module": "@jupyter-widgets/controls",
          "model_name": "HTMLModel",
          "model_module_version": "1.5.0",
          "state": {
            "_dom_classes": [],
            "_model_module": "@jupyter-widgets/controls",
            "_model_module_version": "1.5.0",
            "_model_name": "HTMLModel",
            "_view_count": null,
            "_view_module": "@jupyter-widgets/controls",
            "_view_module_version": "1.5.0",
            "_view_name": "HTMLView",
            "description": "",
            "description_tooltip": null,
            "layout": "IPY_MODEL_cf4be4f3790749a696c15d9795346781",
            "placeholder": "​",
            "style": "IPY_MODEL_add721dab61f406f9f3c22a22abd33dc",
            "value": "tokenizer.json: 100%"
          }
        },
        "55c2dba79b714c2f92556091dd641ecd": {
          "model_module": "@jupyter-widgets/controls",
          "model_name": "FloatProgressModel",
          "model_module_version": "1.5.0",
          "state": {
            "_dom_classes": [],
            "_model_module": "@jupyter-widgets/controls",
            "_model_module_version": "1.5.0",
            "_model_name": "FloatProgressModel",
            "_view_count": null,
            "_view_module": "@jupyter-widgets/controls",
            "_view_module_version": "1.5.0",
            "_view_name": "ProgressView",
            "bar_style": "success",
            "description": "",
            "description_tooltip": null,
            "layout": "IPY_MODEL_69e432a5362c4043b1b951c23ae4a8d9",
            "max": 466062,
            "min": 0,
            "orientation": "horizontal",
            "style": "IPY_MODEL_592dff51d19d4cc58a79a82fb860d32f",
            "value": 466062
          }
        },
        "386dd23f0e614eeda5822e8cacba677e": {
          "model_module": "@jupyter-widgets/controls",
          "model_name": "HTMLModel",
          "model_module_version": "1.5.0",
          "state": {
            "_dom_classes": [],
            "_model_module": "@jupyter-widgets/controls",
            "_model_module_version": "1.5.0",
            "_model_name": "HTMLModel",
            "_view_count": null,
            "_view_module": "@jupyter-widgets/controls",
            "_view_module_version": "1.5.0",
            "_view_name": "HTMLView",
            "description": "",
            "description_tooltip": null,
            "layout": "IPY_MODEL_a46477827c57412b88eb9fdc9950e613",
            "placeholder": "​",
            "style": "IPY_MODEL_5a15902a01474dd483bd3327f5bc720c",
            "value": " 466k/466k [00:00&lt;00:00, 22.8MB/s]"
          }
        },
        "fcdb83177ebc47418dff96d4d816603d": {
          "model_module": "@jupyter-widgets/base",
          "model_name": "LayoutModel",
          "model_module_version": "1.2.0",
          "state": {
            "_model_module": "@jupyter-widgets/base",
            "_model_module_version": "1.2.0",
            "_model_name": "LayoutModel",
            "_view_count": null,
            "_view_module": "@jupyter-widgets/base",
            "_view_module_version": "1.2.0",
            "_view_name": "LayoutView",
            "align_content": null,
            "align_items": null,
            "align_self": null,
            "border": null,
            "bottom": null,
            "display": null,
            "flex": null,
            "flex_flow": null,
            "grid_area": null,
            "grid_auto_columns": null,
            "grid_auto_flow": null,
            "grid_auto_rows": null,
            "grid_column": null,
            "grid_gap": null,
            "grid_row": null,
            "grid_template_areas": null,
            "grid_template_columns": null,
            "grid_template_rows": null,
            "height": null,
            "justify_content": null,
            "justify_items": null,
            "left": null,
            "margin": null,
            "max_height": null,
            "max_width": null,
            "min_height": null,
            "min_width": null,
            "object_fit": null,
            "object_position": null,
            "order": null,
            "overflow": null,
            "overflow_x": null,
            "overflow_y": null,
            "padding": null,
            "right": null,
            "top": null,
            "visibility": null,
            "width": null
          }
        },
        "cf4be4f3790749a696c15d9795346781": {
          "model_module": "@jupyter-widgets/base",
          "model_name": "LayoutModel",
          "model_module_version": "1.2.0",
          "state": {
            "_model_module": "@jupyter-widgets/base",
            "_model_module_version": "1.2.0",
            "_model_name": "LayoutModel",
            "_view_count": null,
            "_view_module": "@jupyter-widgets/base",
            "_view_module_version": "1.2.0",
            "_view_name": "LayoutView",
            "align_content": null,
            "align_items": null,
            "align_self": null,
            "border": null,
            "bottom": null,
            "display": null,
            "flex": null,
            "flex_flow": null,
            "grid_area": null,
            "grid_auto_columns": null,
            "grid_auto_flow": null,
            "grid_auto_rows": null,
            "grid_column": null,
            "grid_gap": null,
            "grid_row": null,
            "grid_template_areas": null,
            "grid_template_columns": null,
            "grid_template_rows": null,
            "height": null,
            "justify_content": null,
            "justify_items": null,
            "left": null,
            "margin": null,
            "max_height": null,
            "max_width": null,
            "min_height": null,
            "min_width": null,
            "object_fit": null,
            "object_position": null,
            "order": null,
            "overflow": null,
            "overflow_x": null,
            "overflow_y": null,
            "padding": null,
            "right": null,
            "top": null,
            "visibility": null,
            "width": null
          }
        },
        "add721dab61f406f9f3c22a22abd33dc": {
          "model_module": "@jupyter-widgets/controls",
          "model_name": "DescriptionStyleModel",
          "model_module_version": "1.5.0",
          "state": {
            "_model_module": "@jupyter-widgets/controls",
            "_model_module_version": "1.5.0",
            "_model_name": "DescriptionStyleModel",
            "_view_count": null,
            "_view_module": "@jupyter-widgets/base",
            "_view_module_version": "1.2.0",
            "_view_name": "StyleView",
            "description_width": ""
          }
        },
        "69e432a5362c4043b1b951c23ae4a8d9": {
          "model_module": "@jupyter-widgets/base",
          "model_name": "LayoutModel",
          "model_module_version": "1.2.0",
          "state": {
            "_model_module": "@jupyter-widgets/base",
            "_model_module_version": "1.2.0",
            "_model_name": "LayoutModel",
            "_view_count": null,
            "_view_module": "@jupyter-widgets/base",
            "_view_module_version": "1.2.0",
            "_view_name": "LayoutView",
            "align_content": null,
            "align_items": null,
            "align_self": null,
            "border": null,
            "bottom": null,
            "display": null,
            "flex": null,
            "flex_flow": null,
            "grid_area": null,
            "grid_auto_columns": null,
            "grid_auto_flow": null,
            "grid_auto_rows": null,
            "grid_column": null,
            "grid_gap": null,
            "grid_row": null,
            "grid_template_areas": null,
            "grid_template_columns": null,
            "grid_template_rows": null,
            "height": null,
            "justify_content": null,
            "justify_items": null,
            "left": null,
            "margin": null,
            "max_height": null,
            "max_width": null,
            "min_height": null,
            "min_width": null,
            "object_fit": null,
            "object_position": null,
            "order": null,
            "overflow": null,
            "overflow_x": null,
            "overflow_y": null,
            "padding": null,
            "right": null,
            "top": null,
            "visibility": null,
            "width": null
          }
        },
        "592dff51d19d4cc58a79a82fb860d32f": {
          "model_module": "@jupyter-widgets/controls",
          "model_name": "ProgressStyleModel",
          "model_module_version": "1.5.0",
          "state": {
            "_model_module": "@jupyter-widgets/controls",
            "_model_module_version": "1.5.0",
            "_model_name": "ProgressStyleModel",
            "_view_count": null,
            "_view_module": "@jupyter-widgets/base",
            "_view_module_version": "1.2.0",
            "_view_name": "StyleView",
            "bar_color": null,
            "description_width": ""
          }
        },
        "a46477827c57412b88eb9fdc9950e613": {
          "model_module": "@jupyter-widgets/base",
          "model_name": "LayoutModel",
          "model_module_version": "1.2.0",
          "state": {
            "_model_module": "@jupyter-widgets/base",
            "_model_module_version": "1.2.0",
            "_model_name": "LayoutModel",
            "_view_count": null,
            "_view_module": "@jupyter-widgets/base",
            "_view_module_version": "1.2.0",
            "_view_name": "LayoutView",
            "align_content": null,
            "align_items": null,
            "align_self": null,
            "border": null,
            "bottom": null,
            "display": null,
            "flex": null,
            "flex_flow": null,
            "grid_area": null,
            "grid_auto_columns": null,
            "grid_auto_flow": null,
            "grid_auto_rows": null,
            "grid_column": null,
            "grid_gap": null,
            "grid_row": null,
            "grid_template_areas": null,
            "grid_template_columns": null,
            "grid_template_rows": null,
            "height": null,
            "justify_content": null,
            "justify_items": null,
            "left": null,
            "margin": null,
            "max_height": null,
            "max_width": null,
            "min_height": null,
            "min_width": null,
            "object_fit": null,
            "object_position": null,
            "order": null,
            "overflow": null,
            "overflow_x": null,
            "overflow_y": null,
            "padding": null,
            "right": null,
            "top": null,
            "visibility": null,
            "width": null
          }
        },
        "5a15902a01474dd483bd3327f5bc720c": {
          "model_module": "@jupyter-widgets/controls",
          "model_name": "DescriptionStyleModel",
          "model_module_version": "1.5.0",
          "state": {
            "_model_module": "@jupyter-widgets/controls",
            "_model_module_version": "1.5.0",
            "_model_name": "DescriptionStyleModel",
            "_view_count": null,
            "_view_module": "@jupyter-widgets/base",
            "_view_module_version": "1.2.0",
            "_view_name": "StyleView",
            "description_width": ""
          }
        },
        "213dee41190a4b399ca775bae48bd718": {
          "model_module": "@jupyter-widgets/controls",
          "model_name": "HBoxModel",
          "model_module_version": "1.5.0",
          "state": {
            "_dom_classes": [],
            "_model_module": "@jupyter-widgets/controls",
            "_model_module_version": "1.5.0",
            "_model_name": "HBoxModel",
            "_view_count": null,
            "_view_module": "@jupyter-widgets/controls",
            "_view_module_version": "1.5.0",
            "_view_name": "HBoxView",
            "box_style": "",
            "children": [
              "IPY_MODEL_659181a3c4554d5cabccd38155e02355",
              "IPY_MODEL_360e0386eab34c5489e1bf52da098d75",
              "IPY_MODEL_8c88777a839744c1a2e77ad30311fddf"
            ],
            "layout": "IPY_MODEL_064c4afe1c7a410ca9e410e8f9c04b36"
          }
        },
        "659181a3c4554d5cabccd38155e02355": {
          "model_module": "@jupyter-widgets/controls",
          "model_name": "HTMLModel",
          "model_module_version": "1.5.0",
          "state": {
            "_dom_classes": [],
            "_model_module": "@jupyter-widgets/controls",
            "_model_module_version": "1.5.0",
            "_model_name": "HTMLModel",
            "_view_count": null,
            "_view_module": "@jupyter-widgets/controls",
            "_view_module_version": "1.5.0",
            "_view_name": "HTMLView",
            "description": "",
            "description_tooltip": null,
            "layout": "IPY_MODEL_ad289db37ee240cc9e4bb26ea0f37c5e",
            "placeholder": "​",
            "style": "IPY_MODEL_3c9b722f5e444653954b4128f164e0af",
            "value": "config.json: 100%"
          }
        },
        "360e0386eab34c5489e1bf52da098d75": {
          "model_module": "@jupyter-widgets/controls",
          "model_name": "FloatProgressModel",
          "model_module_version": "1.5.0",
          "state": {
            "_dom_classes": [],
            "_model_module": "@jupyter-widgets/controls",
            "_model_module_version": "1.5.0",
            "_model_name": "FloatProgressModel",
            "_view_count": null,
            "_view_module": "@jupyter-widgets/controls",
            "_view_module_version": "1.5.0",
            "_view_name": "ProgressView",
            "bar_style": "success",
            "description": "",
            "description_tooltip": null,
            "layout": "IPY_MODEL_1dd7dcab4ebc458fa7cca60a87c0d07e",
            "max": 570,
            "min": 0,
            "orientation": "horizontal",
            "style": "IPY_MODEL_e4ec5b67c5aa47269cb1519c8c1c2e60",
            "value": 570
          }
        },
        "8c88777a839744c1a2e77ad30311fddf": {
          "model_module": "@jupyter-widgets/controls",
          "model_name": "HTMLModel",
          "model_module_version": "1.5.0",
          "state": {
            "_dom_classes": [],
            "_model_module": "@jupyter-widgets/controls",
            "_model_module_version": "1.5.0",
            "_model_name": "HTMLModel",
            "_view_count": null,
            "_view_module": "@jupyter-widgets/controls",
            "_view_module_version": "1.5.0",
            "_view_name": "HTMLView",
            "description": "",
            "description_tooltip": null,
            "layout": "IPY_MODEL_f0e4c34876464710bd046ee137e59c51",
            "placeholder": "​",
            "style": "IPY_MODEL_972c2775141944e4a363bfe42007152a",
            "value": " 570/570 [00:00&lt;00:00, 39.5kB/s]"
          }
        },
        "064c4afe1c7a410ca9e410e8f9c04b36": {
          "model_module": "@jupyter-widgets/base",
          "model_name": "LayoutModel",
          "model_module_version": "1.2.0",
          "state": {
            "_model_module": "@jupyter-widgets/base",
            "_model_module_version": "1.2.0",
            "_model_name": "LayoutModel",
            "_view_count": null,
            "_view_module": "@jupyter-widgets/base",
            "_view_module_version": "1.2.0",
            "_view_name": "LayoutView",
            "align_content": null,
            "align_items": null,
            "align_self": null,
            "border": null,
            "bottom": null,
            "display": null,
            "flex": null,
            "flex_flow": null,
            "grid_area": null,
            "grid_auto_columns": null,
            "grid_auto_flow": null,
            "grid_auto_rows": null,
            "grid_column": null,
            "grid_gap": null,
            "grid_row": null,
            "grid_template_areas": null,
            "grid_template_columns": null,
            "grid_template_rows": null,
            "height": null,
            "justify_content": null,
            "justify_items": null,
            "left": null,
            "margin": null,
            "max_height": null,
            "max_width": null,
            "min_height": null,
            "min_width": null,
            "object_fit": null,
            "object_position": null,
            "order": null,
            "overflow": null,
            "overflow_x": null,
            "overflow_y": null,
            "padding": null,
            "right": null,
            "top": null,
            "visibility": null,
            "width": null
          }
        },
        "ad289db37ee240cc9e4bb26ea0f37c5e": {
          "model_module": "@jupyter-widgets/base",
          "model_name": "LayoutModel",
          "model_module_version": "1.2.0",
          "state": {
            "_model_module": "@jupyter-widgets/base",
            "_model_module_version": "1.2.0",
            "_model_name": "LayoutModel",
            "_view_count": null,
            "_view_module": "@jupyter-widgets/base",
            "_view_module_version": "1.2.0",
            "_view_name": "LayoutView",
            "align_content": null,
            "align_items": null,
            "align_self": null,
            "border": null,
            "bottom": null,
            "display": null,
            "flex": null,
            "flex_flow": null,
            "grid_area": null,
            "grid_auto_columns": null,
            "grid_auto_flow": null,
            "grid_auto_rows": null,
            "grid_column": null,
            "grid_gap": null,
            "grid_row": null,
            "grid_template_areas": null,
            "grid_template_columns": null,
            "grid_template_rows": null,
            "height": null,
            "justify_content": null,
            "justify_items": null,
            "left": null,
            "margin": null,
            "max_height": null,
            "max_width": null,
            "min_height": null,
            "min_width": null,
            "object_fit": null,
            "object_position": null,
            "order": null,
            "overflow": null,
            "overflow_x": null,
            "overflow_y": null,
            "padding": null,
            "right": null,
            "top": null,
            "visibility": null,
            "width": null
          }
        },
        "3c9b722f5e444653954b4128f164e0af": {
          "model_module": "@jupyter-widgets/controls",
          "model_name": "DescriptionStyleModel",
          "model_module_version": "1.5.0",
          "state": {
            "_model_module": "@jupyter-widgets/controls",
            "_model_module_version": "1.5.0",
            "_model_name": "DescriptionStyleModel",
            "_view_count": null,
            "_view_module": "@jupyter-widgets/base",
            "_view_module_version": "1.2.0",
            "_view_name": "StyleView",
            "description_width": ""
          }
        },
        "1dd7dcab4ebc458fa7cca60a87c0d07e": {
          "model_module": "@jupyter-widgets/base",
          "model_name": "LayoutModel",
          "model_module_version": "1.2.0",
          "state": {
            "_model_module": "@jupyter-widgets/base",
            "_model_module_version": "1.2.0",
            "_model_name": "LayoutModel",
            "_view_count": null,
            "_view_module": "@jupyter-widgets/base",
            "_view_module_version": "1.2.0",
            "_view_name": "LayoutView",
            "align_content": null,
            "align_items": null,
            "align_self": null,
            "border": null,
            "bottom": null,
            "display": null,
            "flex": null,
            "flex_flow": null,
            "grid_area": null,
            "grid_auto_columns": null,
            "grid_auto_flow": null,
            "grid_auto_rows": null,
            "grid_column": null,
            "grid_gap": null,
            "grid_row": null,
            "grid_template_areas": null,
            "grid_template_columns": null,
            "grid_template_rows": null,
            "height": null,
            "justify_content": null,
            "justify_items": null,
            "left": null,
            "margin": null,
            "max_height": null,
            "max_width": null,
            "min_height": null,
            "min_width": null,
            "object_fit": null,
            "object_position": null,
            "order": null,
            "overflow": null,
            "overflow_x": null,
            "overflow_y": null,
            "padding": null,
            "right": null,
            "top": null,
            "visibility": null,
            "width": null
          }
        },
        "e4ec5b67c5aa47269cb1519c8c1c2e60": {
          "model_module": "@jupyter-widgets/controls",
          "model_name": "ProgressStyleModel",
          "model_module_version": "1.5.0",
          "state": {
            "_model_module": "@jupyter-widgets/controls",
            "_model_module_version": "1.5.0",
            "_model_name": "ProgressStyleModel",
            "_view_count": null,
            "_view_module": "@jupyter-widgets/base",
            "_view_module_version": "1.2.0",
            "_view_name": "StyleView",
            "bar_color": null,
            "description_width": ""
          }
        },
        "f0e4c34876464710bd046ee137e59c51": {
          "model_module": "@jupyter-widgets/base",
          "model_name": "LayoutModel",
          "model_module_version": "1.2.0",
          "state": {
            "_model_module": "@jupyter-widgets/base",
            "_model_module_version": "1.2.0",
            "_model_name": "LayoutModel",
            "_view_count": null,
            "_view_module": "@jupyter-widgets/base",
            "_view_module_version": "1.2.0",
            "_view_name": "LayoutView",
            "align_content": null,
            "align_items": null,
            "align_self": null,
            "border": null,
            "bottom": null,
            "display": null,
            "flex": null,
            "flex_flow": null,
            "grid_area": null,
            "grid_auto_columns": null,
            "grid_auto_flow": null,
            "grid_auto_rows": null,
            "grid_column": null,
            "grid_gap": null,
            "grid_row": null,
            "grid_template_areas": null,
            "grid_template_columns": null,
            "grid_template_rows": null,
            "height": null,
            "justify_content": null,
            "justify_items": null,
            "left": null,
            "margin": null,
            "max_height": null,
            "max_width": null,
            "min_height": null,
            "min_width": null,
            "object_fit": null,
            "object_position": null,
            "order": null,
            "overflow": null,
            "overflow_x": null,
            "overflow_y": null,
            "padding": null,
            "right": null,
            "top": null,
            "visibility": null,
            "width": null
          }
        },
        "972c2775141944e4a363bfe42007152a": {
          "model_module": "@jupyter-widgets/controls",
          "model_name": "DescriptionStyleModel",
          "model_module_version": "1.5.0",
          "state": {
            "_model_module": "@jupyter-widgets/controls",
            "_model_module_version": "1.5.0",
            "_model_name": "DescriptionStyleModel",
            "_view_count": null,
            "_view_module": "@jupyter-widgets/base",
            "_view_module_version": "1.2.0",
            "_view_name": "StyleView",
            "description_width": ""
          }
        },
        "36df6b1ab1424b029765f4b192bb4492": {
          "model_module": "@jupyter-widgets/controls",
          "model_name": "HBoxModel",
          "model_module_version": "1.5.0",
          "state": {
            "_dom_classes": [],
            "_model_module": "@jupyter-widgets/controls",
            "_model_module_version": "1.5.0",
            "_model_name": "HBoxModel",
            "_view_count": null,
            "_view_module": "@jupyter-widgets/controls",
            "_view_module_version": "1.5.0",
            "_view_name": "HBoxView",
            "box_style": "",
            "children": [
              "IPY_MODEL_3b3c328725f84cafbf97f5143d7ce16a",
              "IPY_MODEL_1a73704f28f44cf88ad7ccb7520c89f3",
              "IPY_MODEL_39b5693cd9f24b6b9bb8947e3c57ad98"
            ],
            "layout": "IPY_MODEL_cbd4085ce4f44664bbf12a284e072282"
          }
        },
        "3b3c328725f84cafbf97f5143d7ce16a": {
          "model_module": "@jupyter-widgets/controls",
          "model_name": "HTMLModel",
          "model_module_version": "1.5.0",
          "state": {
            "_dom_classes": [],
            "_model_module": "@jupyter-widgets/controls",
            "_model_module_version": "1.5.0",
            "_model_name": "HTMLModel",
            "_view_count": null,
            "_view_module": "@jupyter-widgets/controls",
            "_view_module_version": "1.5.0",
            "_view_name": "HTMLView",
            "description": "",
            "description_tooltip": null,
            "layout": "IPY_MODEL_eb3f32be69a648ca85155bc727f8d1dd",
            "placeholder": "​",
            "style": "IPY_MODEL_a2dede3ecf2f4c2bbead9f805d2c5063",
            "value": "model.safetensors: 100%"
          }
        },
        "1a73704f28f44cf88ad7ccb7520c89f3": {
          "model_module": "@jupyter-widgets/controls",
          "model_name": "FloatProgressModel",
          "model_module_version": "1.5.0",
          "state": {
            "_dom_classes": [],
            "_model_module": "@jupyter-widgets/controls",
            "_model_module_version": "1.5.0",
            "_model_name": "FloatProgressModel",
            "_view_count": null,
            "_view_module": "@jupyter-widgets/controls",
            "_view_module_version": "1.5.0",
            "_view_name": "ProgressView",
            "bar_style": "success",
            "description": "",
            "description_tooltip": null,
            "layout": "IPY_MODEL_c1201c82bff94c98811771d8f23364a3",
            "max": 440449768,
            "min": 0,
            "orientation": "horizontal",
            "style": "IPY_MODEL_a6fa8f0ae16c4c9db7b73b568e02a745",
            "value": 440449768
          }
        },
        "39b5693cd9f24b6b9bb8947e3c57ad98": {
          "model_module": "@jupyter-widgets/controls",
          "model_name": "HTMLModel",
          "model_module_version": "1.5.0",
          "state": {
            "_dom_classes": [],
            "_model_module": "@jupyter-widgets/controls",
            "_model_module_version": "1.5.0",
            "_model_name": "HTMLModel",
            "_view_count": null,
            "_view_module": "@jupyter-widgets/controls",
            "_view_module_version": "1.5.0",
            "_view_name": "HTMLView",
            "description": "",
            "description_tooltip": null,
            "layout": "IPY_MODEL_7c9a4e82202b42eea234ea779b4abe59",
            "placeholder": "​",
            "style": "IPY_MODEL_aba2fd5c08d4416e9461b7a1e6501a58",
            "value": " 440M/440M [00:04&lt;00:00, 146MB/s]"
          }
        },
        "cbd4085ce4f44664bbf12a284e072282": {
          "model_module": "@jupyter-widgets/base",
          "model_name": "LayoutModel",
          "model_module_version": "1.2.0",
          "state": {
            "_model_module": "@jupyter-widgets/base",
            "_model_module_version": "1.2.0",
            "_model_name": "LayoutModel",
            "_view_count": null,
            "_view_module": "@jupyter-widgets/base",
            "_view_module_version": "1.2.0",
            "_view_name": "LayoutView",
            "align_content": null,
            "align_items": null,
            "align_self": null,
            "border": null,
            "bottom": null,
            "display": null,
            "flex": null,
            "flex_flow": null,
            "grid_area": null,
            "grid_auto_columns": null,
            "grid_auto_flow": null,
            "grid_auto_rows": null,
            "grid_column": null,
            "grid_gap": null,
            "grid_row": null,
            "grid_template_areas": null,
            "grid_template_columns": null,
            "grid_template_rows": null,
            "height": null,
            "justify_content": null,
            "justify_items": null,
            "left": null,
            "margin": null,
            "max_height": null,
            "max_width": null,
            "min_height": null,
            "min_width": null,
            "object_fit": null,
            "object_position": null,
            "order": null,
            "overflow": null,
            "overflow_x": null,
            "overflow_y": null,
            "padding": null,
            "right": null,
            "top": null,
            "visibility": null,
            "width": null
          }
        },
        "eb3f32be69a648ca85155bc727f8d1dd": {
          "model_module": "@jupyter-widgets/base",
          "model_name": "LayoutModel",
          "model_module_version": "1.2.0",
          "state": {
            "_model_module": "@jupyter-widgets/base",
            "_model_module_version": "1.2.0",
            "_model_name": "LayoutModel",
            "_view_count": null,
            "_view_module": "@jupyter-widgets/base",
            "_view_module_version": "1.2.0",
            "_view_name": "LayoutView",
            "align_content": null,
            "align_items": null,
            "align_self": null,
            "border": null,
            "bottom": null,
            "display": null,
            "flex": null,
            "flex_flow": null,
            "grid_area": null,
            "grid_auto_columns": null,
            "grid_auto_flow": null,
            "grid_auto_rows": null,
            "grid_column": null,
            "grid_gap": null,
            "grid_row": null,
            "grid_template_areas": null,
            "grid_template_columns": null,
            "grid_template_rows": null,
            "height": null,
            "justify_content": null,
            "justify_items": null,
            "left": null,
            "margin": null,
            "max_height": null,
            "max_width": null,
            "min_height": null,
            "min_width": null,
            "object_fit": null,
            "object_position": null,
            "order": null,
            "overflow": null,
            "overflow_x": null,
            "overflow_y": null,
            "padding": null,
            "right": null,
            "top": null,
            "visibility": null,
            "width": null
          }
        },
        "a2dede3ecf2f4c2bbead9f805d2c5063": {
          "model_module": "@jupyter-widgets/controls",
          "model_name": "DescriptionStyleModel",
          "model_module_version": "1.5.0",
          "state": {
            "_model_module": "@jupyter-widgets/controls",
            "_model_module_version": "1.5.0",
            "_model_name": "DescriptionStyleModel",
            "_view_count": null,
            "_view_module": "@jupyter-widgets/base",
            "_view_module_version": "1.2.0",
            "_view_name": "StyleView",
            "description_width": ""
          }
        },
        "c1201c82bff94c98811771d8f23364a3": {
          "model_module": "@jupyter-widgets/base",
          "model_name": "LayoutModel",
          "model_module_version": "1.2.0",
          "state": {
            "_model_module": "@jupyter-widgets/base",
            "_model_module_version": "1.2.0",
            "_model_name": "LayoutModel",
            "_view_count": null,
            "_view_module": "@jupyter-widgets/base",
            "_view_module_version": "1.2.0",
            "_view_name": "LayoutView",
            "align_content": null,
            "align_items": null,
            "align_self": null,
            "border": null,
            "bottom": null,
            "display": null,
            "flex": null,
            "flex_flow": null,
            "grid_area": null,
            "grid_auto_columns": null,
            "grid_auto_flow": null,
            "grid_auto_rows": null,
            "grid_column": null,
            "grid_gap": null,
            "grid_row": null,
            "grid_template_areas": null,
            "grid_template_columns": null,
            "grid_template_rows": null,
            "height": null,
            "justify_content": null,
            "justify_items": null,
            "left": null,
            "margin": null,
            "max_height": null,
            "max_width": null,
            "min_height": null,
            "min_width": null,
            "object_fit": null,
            "object_position": null,
            "order": null,
            "overflow": null,
            "overflow_x": null,
            "overflow_y": null,
            "padding": null,
            "right": null,
            "top": null,
            "visibility": null,
            "width": null
          }
        },
        "a6fa8f0ae16c4c9db7b73b568e02a745": {
          "model_module": "@jupyter-widgets/controls",
          "model_name": "ProgressStyleModel",
          "model_module_version": "1.5.0",
          "state": {
            "_model_module": "@jupyter-widgets/controls",
            "_model_module_version": "1.5.0",
            "_model_name": "ProgressStyleModel",
            "_view_count": null,
            "_view_module": "@jupyter-widgets/base",
            "_view_module_version": "1.2.0",
            "_view_name": "StyleView",
            "bar_color": null,
            "description_width": ""
          }
        },
        "7c9a4e82202b42eea234ea779b4abe59": {
          "model_module": "@jupyter-widgets/base",
          "model_name": "LayoutModel",
          "model_module_version": "1.2.0",
          "state": {
            "_model_module": "@jupyter-widgets/base",
            "_model_module_version": "1.2.0",
            "_model_name": "LayoutModel",
            "_view_count": null,
            "_view_module": "@jupyter-widgets/base",
            "_view_module_version": "1.2.0",
            "_view_name": "LayoutView",
            "align_content": null,
            "align_items": null,
            "align_self": null,
            "border": null,
            "bottom": null,
            "display": null,
            "flex": null,
            "flex_flow": null,
            "grid_area": null,
            "grid_auto_columns": null,
            "grid_auto_flow": null,
            "grid_auto_rows": null,
            "grid_column": null,
            "grid_gap": null,
            "grid_row": null,
            "grid_template_areas": null,
            "grid_template_columns": null,
            "grid_template_rows": null,
            "height": null,
            "justify_content": null,
            "justify_items": null,
            "left": null,
            "margin": null,
            "max_height": null,
            "max_width": null,
            "min_height": null,
            "min_width": null,
            "object_fit": null,
            "object_position": null,
            "order": null,
            "overflow": null,
            "overflow_x": null,
            "overflow_y": null,
            "padding": null,
            "right": null,
            "top": null,
            "visibility": null,
            "width": null
          }
        },
        "aba2fd5c08d4416e9461b7a1e6501a58": {
          "model_module": "@jupyter-widgets/controls",
          "model_name": "DescriptionStyleModel",
          "model_module_version": "1.5.0",
          "state": {
            "_model_module": "@jupyter-widgets/controls",
            "_model_module_version": "1.5.0",
            "_model_name": "DescriptionStyleModel",
            "_view_count": null,
            "_view_module": "@jupyter-widgets/base",
            "_view_module_version": "1.2.0",
            "_view_name": "StyleView",
            "description_width": ""
          }
        }
      }
    }
  },
  "cells": [
    {
      "cell_type": "markdown",
      "metadata": {
        "id": "vncDsAP0Gaoa"
      },
      "source": [
        "### **Project Name**    - Specialized LLM Bot Using Pre-Trained Models\n",
        "\n"
      ]
    },
    {
      "cell_type": "markdown",
      "metadata": {
        "id": "beRrZCGUAJYm"
      },
      "source": [
        "\n",
        "##### **Contribution**    - Individual\n"
      ]
    },
    {
      "cell_type": "markdown",
      "metadata": {
        "id": "VRo4vjSmIBqq"
      },
      "source": [
        "###**Project Summary -**"
      ]
    },
    {
      "cell_type": "markdown",
      "metadata": {
        "id": "5APZAAC-UujW"
      },
      "source": [
        "Chatbots are AI-powered programs that simulate human conversation. They can answer questions, perform tasks, and engage with users, making technology more accessible and efficient.\n",
        "we will walk through this steps:\n",
        "    \n",
        "1. Load the data<br>\n",
        "2. EDA and analyze the data for more insights\n",
        "3. Split the data into train, test and validation datasets<br>\n",
        "4. Load BERT Pretrained model and tokenizer<br>\n",
        "5. Transform the data to numerical format<br>\n",
        "6. Train BERT Pretrained model on our custome dataset<br>\n",
        "7. Evaluate the model <br>\n",
        "8. Save the model<br>\n",
        "9. Finally, Load The model and start the conversation"
      ]
    },
    {
      "cell_type": "markdown",
      "metadata": {
        "id": "HobLBsRSIjK3"
      },
      "source": [
        "###**GitHub Link -**"
      ]
    },
    {
      "cell_type": "markdown",
      "metadata": {
        "id": "dNi59dg1InvG"
      },
      "source": [
        "Link:https://github.com/merajsultana/IndustryGPT-Specialized-LLM-Bot-Using-Pre-Trained-Models"
      ]
    },
    {
      "cell_type": "markdown",
      "metadata": {
        "id": "2oY_i0P6I9ft"
      },
      "source": [
        "###**Import Libraries**"
      ]
    },
    {
      "cell_type": "markdown",
      "metadata": {
        "id": "iUxF6R1uUujW"
      },
      "source": [
        "import warnings\n",
        "warnings.filterwarnings('ignore')"
      ]
    },
    {
      "cell_type": "code",
      "execution_count": null,
      "metadata": {
        "id": "Yxx9P0E5UujX"
      },
      "outputs": [],
      "source": [
        "import json\n",
        "import numpy as np\n",
        "import pandas as pd\n",
        "import random\n",
        "from matplotlib import pyplot as plt\n",
        "import seaborn as sns\n",
        "from wordcloud import WordCloud,STOPWORDS\n",
        "import missingno as msno\n",
        "\n",
        "from sklearn.feature_extraction.text import CountVectorizer\n",
        "from sklearn.model_selection import train_test_split\n",
        "from sklearn.metrics import accuracy_score, precision_recall_fscore_support\n",
        "\n",
        "# from keras.preprocessing import text\n",
        "import keras\n",
        "from keras.models import Sequential\n",
        "from keras.layers import Dense,Embedding,LSTM,Dropout\n",
        "from keras.callbacks import ReduceLROnPlateau\n",
        "\n",
        "from tensorflow.keras.preprocessing.sequence import pad_sequences\n",
        "import nltk\n",
        "from nltk import word_tokenize\n",
        "from nltk.stem import PorterStemmer\n",
        "\n",
        "import torch\n",
        "from torch.utils.data import Dataset\n",
        "\n",
        "from transformers import AutoTokenizer, TFAutoModelForSequenceClassification\n",
        "from transformers import pipeline\n",
        "from transformers import DistilBertTokenizerFast\n",
        "from transformers import BertForSequenceClassification, BertTokenizerFast\n",
        "# from transformers import TFDistilBertForSequenceClassification, TFTrainer, TFTrainingArguments\n",
        "from transformers import BertTokenizer, TFBertForSequenceClassification, BertConfig\n",
        "from transformers import TrainingArguments, Trainer"
      ]
    },
    {
      "cell_type": "code",
      "execution_count": null,
      "metadata": {
        "id": "AJm7oe1fUujX"
      },
      "outputs": [],
      "source": [
        "import json\n",
        "import numpy as np\n",
        "import pandas as pd\n",
        "import random\n",
        "from matplotlib import pyplot as plt\n",
        "import seaborn as sns\n",
        "from wordcloud import WordCloud, STOPWORDS\n",
        "import missingno as msno\n",
        "from sklearn.feature_extraction.text import CountVectorizer\n",
        "from sklearn.model_selection import train_test_split\n",
        "from sklearn.metrics import accuracy_score, precision_recall_fscore_support\n",
        "import keras\n",
        "from keras.models import Sequential\n",
        "from keras.layers import Dense, Embedding, LSTM, Dropout\n",
        "from keras.callbacks import ReduceLROnPlateau\n",
        "from tensorflow.keras.preprocessing.sequence import pad_sequences\n",
        "import nltk\n",
        "from nltk import word_tokenize\n",
        "from nltk.stem import PorterStemmer\n",
        "import torch\n",
        "from torch.utils.data import Dataset\n",
        "from transformers import AutoTokenizer, TFAutoModelForSequenceClassification\n",
        "from transformers import pipeline\n",
        "from transformers import DistilBertTokenizerFast\n",
        "from transformers import BertForSequenceClassification, BertTokenizerFast\n",
        "from transformers import TFDistilBertForSequenceClassification\n",
        "# from transformers.trainer_tf import TFTrainer, TFTrainingArguments\n",
        "from transformers import BertTokenizer, TFBertForSequenceClassification, BertConfig\n",
        "from transformers import TrainingArguments, Trainer"
      ]
    },
    {
      "cell_type": "code",
      "execution_count": null,
      "metadata": {
        "colab": {
          "base_uri": "https://localhost:8080/"
        },
        "id": "NIqdU17GgnK3",
        "outputId": "7d156288-a6e8-41bc-84f2-8e728e8f8436"
      },
      "outputs": [
        {
          "output_type": "stream",
          "name": "stdout",
          "text": [
            "Data source import complete.\n"
          ]
        }
      ],
      "source": [
        "# IMPORTANT: RUN THIS CELL IN ORDER TO IMPORT YOUR KAGGLE DATA SOURCES,\n",
        "# THEN FEEL FREE TO DELETE THIS CELL.\n",
        "# NOTE: THIS NOTEBOOK ENVIRONMENT DIFFERS FROM KAGGLE'S PYTHON\n",
        "# ENVIRONMENT SO THERE MAY BE MISSING LIBRARIES USED BY YOUR\n",
        "# NOTEBOOK.\n",
        "import kagglehub\n",
        "icw123_glove_twitter_path = kagglehub.dataset_download('icw123/glove-twitter')\n",
        "grafstor_simple_dialogs_for_chatbot_path = kagglehub.dataset_download('grafstor/simple-dialogs-for-chatbot')\n",
        "niraliivaghani_chatbot_dataset_path = kagglehub.dataset_download('niraliivaghani/chatbot-dataset')\n",
        "\n",
        "print('Data source import complete.')\n"
      ]
    },
    {
      "cell_type": "code",
      "execution_count": null,
      "metadata": {
        "colab": {
          "base_uri": "https://localhost:8080/"
        },
        "id": "ADAs3ZZmjok7",
        "outputId": "c735835c-1a54-4054-b0ab-fb19d0a3afa2"
      },
      "outputs": [
        {
          "output_type": "stream",
          "name": "stdout",
          "text": [
            "Error decoding JSON file: Expecting value: line 1 column 1 (char 0)\n"
          ]
        }
      ],
      "source": [
        "import json\n",
        "import numpy as np\n",
        "import pandas as pd\n",
        "import random\n",
        "from matplotlib import pyplot as plt\n",
        "import seaborn as sns\n",
        "from wordcloud import WordCloud,STOPWORDS\n",
        "import missingno as msno\n",
        "\n",
        "from sklearn.feature_extraction.text import CountVectorizer\n",
        "from sklearn.model_selection import train_test_split\n",
        "from sklearn.metrics import accuracy_score, precision_recall_fscore_support\n",
        "\n",
        "# from keras.preprocessing import text\n",
        "import keras\n",
        "from keras.models import Sequential\n",
        "from keras.layers import Dense,Embedding,LSTM,Dropout\n",
        "from keras.callbacks import ReduceLROnPlateau\n",
        "\n",
        "from tensorflow.keras.preprocessing.sequence import pad_sequences\n",
        "import nltk\n",
        "from nltk import word_tokenize\n",
        "from nltk.stem import PorterStemmer\n",
        "\n",
        "import torch\n",
        "from torch.utils.data import Dataset\n",
        "\n",
        "from transformers import AutoTokenizer, TFAutoModelForSequenceClassification\n",
        "from transformers import pipeline\n",
        "from transformers import DistilBertTokenizerFast\n",
        "from transformers import BertForSequenceClassification, BertTokenizerFast\n",
        "# from transformers import TFDistilBertForSequenceClassification, TFTrainer, TFTrainingArguments\n",
        "from transformers import BertTokenizer, TFBertForSequenceClassification, BertConfig\n",
        "from transformers import TrainingArguments, Trainer\n",
        "\n",
        "\n",
        "def load_json_file(filename):\n",
        "    \"\"\"Loads a JSON file and handles potential decoding errors.\n",
        "\n",
        "    Args:\n",
        "        filename (str): Path to the JSON file.\n",
        "\n",
        "    Returns:\n",
        "        dict: Loaded JSON data, or an empty dictionary if decoding fails.\n",
        "    \"\"\"\n",
        "    try:\n",
        "        with open(filename, 'r', encoding='utf-8') as f:  # Add encoding='utf-8'\n",
        "            data = json.load(f)\n",
        "        return data\n",
        "    except json.JSONDecodeError as e:\n",
        "        print(f\"Error decoding JSON file: {e}\")\n",
        "        # You can handle the error by returning an empty dictionary or raising an exception\n",
        "        return {}  # Returning an empty dictionary to avoid halting the execution\n",
        "\n",
        "\n",
        "filename = '/content/drive/MyDrive/module-6/dialogs.txt'\n",
        "\n",
        "intents = load_json_file(filename)"
      ]
    },
    {
      "cell_type": "code",
      "execution_count": null,
      "metadata": {
        "colab": {
          "base_uri": "https://localhost:8080/"
        },
        "id": "LMKRB5PyW0fW",
        "outputId": "6f566643-e596-4fd7-de74-2e4ddd525145"
      },
      "outputs": [
        {
          "output_type": "stream",
          "name": "stdout",
          "text": [
            "Drive already mounted at /content/drive; to attempt to forcibly remount, call drive.mount(\"/content/drive\", force_remount=True).\n"
          ]
        }
      ],
      "source": [
        "from google.colab import drive\n",
        "drive.mount('/content/drive')"
      ]
    },
    {
      "cell_type": "markdown",
      "metadata": {
        "id": "o3WcIfl_UujY"
      },
      "source": [
        "<a id=\"3.2\"></a>\n",
        "### <b>3.2 <span style='color:#B21010'>||</span> Extract Info from the Json data file and Store it in dataframe</b>"
      ]
    },
    {
      "cell_type": "code",
      "execution_count": null,
      "metadata": {
        "colab": {
          "base_uri": "https://localhost:8080/",
          "height": 89
        },
        "id": "qsvk5JRSUujY",
        "outputId": "c3f882c0-ab2d-48a7-c3b2-14b2862d5ad8"
      },
      "outputs": [
        {
          "output_type": "execute_result",
          "data": {
            "text/plain": [
              "Empty DataFrame\n",
              "Columns: [Pattern, Tag]\n",
              "Index: []"
            ],
            "text/html": [
              "\n",
              "  <div id=\"df-a581982c-c924-42c8-b912-48ed725e189c\" class=\"colab-df-container\">\n",
              "    <div>\n",
              "<style scoped>\n",
              "    .dataframe tbody tr th:only-of-type {\n",
              "        vertical-align: middle;\n",
              "    }\n",
              "\n",
              "    .dataframe tbody tr th {\n",
              "        vertical-align: top;\n",
              "    }\n",
              "\n",
              "    .dataframe thead th {\n",
              "        text-align: right;\n",
              "    }\n",
              "</style>\n",
              "<table border=\"1\" class=\"dataframe\">\n",
              "  <thead>\n",
              "    <tr style=\"text-align: right;\">\n",
              "      <th></th>\n",
              "      <th>Pattern</th>\n",
              "      <th>Tag</th>\n",
              "    </tr>\n",
              "  </thead>\n",
              "  <tbody>\n",
              "  </tbody>\n",
              "</table>\n",
              "</div>\n",
              "    <div class=\"colab-df-buttons\">\n",
              "\n",
              "  <div class=\"colab-df-container\">\n",
              "    <button class=\"colab-df-convert\" onclick=\"convertToInteractive('df-a581982c-c924-42c8-b912-48ed725e189c')\"\n",
              "            title=\"Convert this dataframe to an interactive table.\"\n",
              "            style=\"display:none;\">\n",
              "\n",
              "  <svg xmlns=\"http://www.w3.org/2000/svg\" height=\"24px\" viewBox=\"0 -960 960 960\">\n",
              "    <path d=\"M120-120v-720h720v720H120Zm60-500h600v-160H180v160Zm220 220h160v-160H400v160Zm0 220h160v-160H400v160ZM180-400h160v-160H180v160Zm440 0h160v-160H620v160ZM180-180h160v-160H180v160Zm440 0h160v-160H620v160Z\"/>\n",
              "  </svg>\n",
              "    </button>\n",
              "\n",
              "  <style>\n",
              "    .colab-df-container {\n",
              "      display:flex;\n",
              "      gap: 12px;\n",
              "    }\n",
              "\n",
              "    .colab-df-convert {\n",
              "      background-color: #E8F0FE;\n",
              "      border: none;\n",
              "      border-radius: 50%;\n",
              "      cursor: pointer;\n",
              "      display: none;\n",
              "      fill: #1967D2;\n",
              "      height: 32px;\n",
              "      padding: 0 0 0 0;\n",
              "      width: 32px;\n",
              "    }\n",
              "\n",
              "    .colab-df-convert:hover {\n",
              "      background-color: #E2EBFA;\n",
              "      box-shadow: 0px 1px 2px rgba(60, 64, 67, 0.3), 0px 1px 3px 1px rgba(60, 64, 67, 0.15);\n",
              "      fill: #174EA6;\n",
              "    }\n",
              "\n",
              "    .colab-df-buttons div {\n",
              "      margin-bottom: 4px;\n",
              "    }\n",
              "\n",
              "    [theme=dark] .colab-df-convert {\n",
              "      background-color: #3B4455;\n",
              "      fill: #D2E3FC;\n",
              "    }\n",
              "\n",
              "    [theme=dark] .colab-df-convert:hover {\n",
              "      background-color: #434B5C;\n",
              "      box-shadow: 0px 1px 3px 1px rgba(0, 0, 0, 0.15);\n",
              "      filter: drop-shadow(0px 1px 2px rgba(0, 0, 0, 0.3));\n",
              "      fill: #FFFFFF;\n",
              "    }\n",
              "  </style>\n",
              "\n",
              "    <script>\n",
              "      const buttonEl =\n",
              "        document.querySelector('#df-a581982c-c924-42c8-b912-48ed725e189c button.colab-df-convert');\n",
              "      buttonEl.style.display =\n",
              "        google.colab.kernel.accessAllowed ? 'block' : 'none';\n",
              "\n",
              "      async function convertToInteractive(key) {\n",
              "        const element = document.querySelector('#df-a581982c-c924-42c8-b912-48ed725e189c');\n",
              "        const dataTable =\n",
              "          await google.colab.kernel.invokeFunction('convertToInteractive',\n",
              "                                                    [key], {});\n",
              "        if (!dataTable) return;\n",
              "\n",
              "        const docLinkHtml = 'Like what you see? Visit the ' +\n",
              "          '<a target=\"_blank\" href=https://colab.research.google.com/notebooks/data_table.ipynb>data table notebook</a>'\n",
              "          + ' to learn more about interactive tables.';\n",
              "        element.innerHTML = '';\n",
              "        dataTable['output_type'] = 'display_data';\n",
              "        await google.colab.output.renderOutput(dataTable, element);\n",
              "        const docLink = document.createElement('div');\n",
              "        docLink.innerHTML = docLinkHtml;\n",
              "        element.appendChild(docLink);\n",
              "      }\n",
              "    </script>\n",
              "  </div>\n",
              "\n",
              "\n",
              "  <div id=\"id_fb023e5d-1587-47a4-8823-546e6dc20c5d\">\n",
              "    <style>\n",
              "      .colab-df-generate {\n",
              "        background-color: #E8F0FE;\n",
              "        border: none;\n",
              "        border-radius: 50%;\n",
              "        cursor: pointer;\n",
              "        display: none;\n",
              "        fill: #1967D2;\n",
              "        height: 32px;\n",
              "        padding: 0 0 0 0;\n",
              "        width: 32px;\n",
              "      }\n",
              "\n",
              "      .colab-df-generate:hover {\n",
              "        background-color: #E2EBFA;\n",
              "        box-shadow: 0px 1px 2px rgba(60, 64, 67, 0.3), 0px 1px 3px 1px rgba(60, 64, 67, 0.15);\n",
              "        fill: #174EA6;\n",
              "      }\n",
              "\n",
              "      [theme=dark] .colab-df-generate {\n",
              "        background-color: #3B4455;\n",
              "        fill: #D2E3FC;\n",
              "      }\n",
              "\n",
              "      [theme=dark] .colab-df-generate:hover {\n",
              "        background-color: #434B5C;\n",
              "        box-shadow: 0px 1px 3px 1px rgba(0, 0, 0, 0.15);\n",
              "        filter: drop-shadow(0px 1px 2px rgba(0, 0, 0, 0.3));\n",
              "        fill: #FFFFFF;\n",
              "      }\n",
              "    </style>\n",
              "    <button class=\"colab-df-generate\" onclick=\"generateWithVariable('df')\"\n",
              "            title=\"Generate code using this dataframe.\"\n",
              "            style=\"display:none;\">\n",
              "\n",
              "  <svg xmlns=\"http://www.w3.org/2000/svg\" height=\"24px\"viewBox=\"0 0 24 24\"\n",
              "       width=\"24px\">\n",
              "    <path d=\"M7,19H8.4L18.45,9,17,7.55,7,17.6ZM5,21V16.75L18.45,3.32a2,2,0,0,1,2.83,0l1.4,1.43a1.91,1.91,0,0,1,.58,1.4,1.91,1.91,0,0,1-.58,1.4L9.25,21ZM18.45,9,17,7.55Zm-12,3A5.31,5.31,0,0,0,4.9,8.1,5.31,5.31,0,0,0,1,6.5,5.31,5.31,0,0,0,4.9,4.9,5.31,5.31,0,0,0,6.5,1,5.31,5.31,0,0,0,8.1,4.9,5.31,5.31,0,0,0,12,6.5,5.46,5.46,0,0,0,6.5,12Z\"/>\n",
              "  </svg>\n",
              "    </button>\n",
              "    <script>\n",
              "      (() => {\n",
              "      const buttonEl =\n",
              "        document.querySelector('#id_fb023e5d-1587-47a4-8823-546e6dc20c5d button.colab-df-generate');\n",
              "      buttonEl.style.display =\n",
              "        google.colab.kernel.accessAllowed ? 'block' : 'none';\n",
              "\n",
              "      buttonEl.onclick = () => {\n",
              "        google.colab.notebook.generateWithVariable('df');\n",
              "      }\n",
              "      })();\n",
              "    </script>\n",
              "  </div>\n",
              "\n",
              "    </div>\n",
              "  </div>\n"
            ],
            "application/vnd.google.colaboratory.intrinsic+json": {
              "type": "dataframe",
              "variable_name": "df",
              "summary": "{\n  \"name\": \"df\",\n  \"rows\": 0,\n  \"fields\": [\n    {\n      \"column\": \"Pattern\",\n      \"properties\": {\n        \"dtype\": \"number\",\n        \"std\": null,\n        \"min\": null,\n        \"max\": null,\n        \"num_unique_values\": 0,\n        \"samples\": [],\n        \"semantic_type\": \"\",\n        \"description\": \"\"\n      }\n    },\n    {\n      \"column\": \"Tag\",\n      \"properties\": {\n        \"dtype\": \"number\",\n        \"std\": null,\n        \"min\": null,\n        \"max\": null,\n        \"num_unique_values\": 0,\n        \"samples\": [],\n        \"semantic_type\": \"\",\n        \"description\": \"\"\n      }\n    }\n  ]\n}"
            }
          },
          "metadata": {},
          "execution_count": 10
        }
      ],
      "source": [
        "def create_df():\n",
        "    df = pd.DataFrame({\n",
        "        'Pattern' : [],\n",
        "        'Tag' : []\n",
        "    })\n",
        "\n",
        "    return df\n",
        "\n",
        "df = create_df()\n",
        "df"
      ]
    },
    {
      "cell_type": "code",
      "execution_count": null,
      "metadata": {
        "id": "e4aajEyPkg0Y"
      },
      "outputs": [],
      "source": [
        "def load_json_file(filename):\n",
        "    \"\"\"Loads a JSON file and handles potential decoding errors.\n",
        "\n",
        "    Args:\n",
        "        filename (str): Path to the JSON file.\n",
        "\n",
        "    Returns:\n",
        "        dict: Loaded JSON data, or an empty dictionary if decoding fails.\n",
        "    \"\"\"\n",
        "    try:\n",
        "        with open(filename, 'r', encoding='utf-8') as f:  # Add encoding='utf-8'\n",
        "            data = json.load(f)\n",
        "        return data\n",
        "    except json.JSONDecodeError:  # Properly indented except block\n",
        "        return {}  # Properly indented return statement"
      ]
    },
    {
      "cell_type": "code",
      "execution_count": null,
      "metadata": {
        "colab": {
          "base_uri": "https://localhost:8080/",
          "height": 53
        },
        "id": "Sw0MQb_XUujZ",
        "outputId": "04007b5c-f1f3-4f00-d859-e7e7435384e4"
      },
      "outputs": [
        {
          "output_type": "execute_result",
          "data": {
            "text/plain": [
              "Empty DataFrame\n",
              "Columns: [Pattern, Tag]\n",
              "Index: []"
            ],
            "text/html": [
              "\n",
              "  <div id=\"df-2b00d8e9-21ee-4c75-b866-d66eb57d05df\" class=\"colab-df-container\">\n",
              "    <div>\n",
              "<style scoped>\n",
              "    .dataframe tbody tr th:only-of-type {\n",
              "        vertical-align: middle;\n",
              "    }\n",
              "\n",
              "    .dataframe tbody tr th {\n",
              "        vertical-align: top;\n",
              "    }\n",
              "\n",
              "    .dataframe thead th {\n",
              "        text-align: right;\n",
              "    }\n",
              "</style>\n",
              "<table border=\"1\" class=\"dataframe\">\n",
              "  <thead>\n",
              "    <tr style=\"text-align: right;\">\n",
              "      <th></th>\n",
              "      <th>Pattern</th>\n",
              "      <th>Tag</th>\n",
              "    </tr>\n",
              "  </thead>\n",
              "  <tbody>\n",
              "  </tbody>\n",
              "</table>\n",
              "</div>\n",
              "    <div class=\"colab-df-buttons\">\n",
              "\n",
              "  <div class=\"colab-df-container\">\n",
              "    <button class=\"colab-df-convert\" onclick=\"convertToInteractive('df-2b00d8e9-21ee-4c75-b866-d66eb57d05df')\"\n",
              "            title=\"Convert this dataframe to an interactive table.\"\n",
              "            style=\"display:none;\">\n",
              "\n",
              "  <svg xmlns=\"http://www.w3.org/2000/svg\" height=\"24px\" viewBox=\"0 -960 960 960\">\n",
              "    <path d=\"M120-120v-720h720v720H120Zm60-500h600v-160H180v160Zm220 220h160v-160H400v160Zm0 220h160v-160H400v160ZM180-400h160v-160H180v160Zm440 0h160v-160H620v160ZM180-180h160v-160H180v160Zm440 0h160v-160H620v160Z\"/>\n",
              "  </svg>\n",
              "    </button>\n",
              "\n",
              "  <style>\n",
              "    .colab-df-container {\n",
              "      display:flex;\n",
              "      gap: 12px;\n",
              "    }\n",
              "\n",
              "    .colab-df-convert {\n",
              "      background-color: #E8F0FE;\n",
              "      border: none;\n",
              "      border-radius: 50%;\n",
              "      cursor: pointer;\n",
              "      display: none;\n",
              "      fill: #1967D2;\n",
              "      height: 32px;\n",
              "      padding: 0 0 0 0;\n",
              "      width: 32px;\n",
              "    }\n",
              "\n",
              "    .colab-df-convert:hover {\n",
              "      background-color: #E2EBFA;\n",
              "      box-shadow: 0px 1px 2px rgba(60, 64, 67, 0.3), 0px 1px 3px 1px rgba(60, 64, 67, 0.15);\n",
              "      fill: #174EA6;\n",
              "    }\n",
              "\n",
              "    .colab-df-buttons div {\n",
              "      margin-bottom: 4px;\n",
              "    }\n",
              "\n",
              "    [theme=dark] .colab-df-convert {\n",
              "      background-color: #3B4455;\n",
              "      fill: #D2E3FC;\n",
              "    }\n",
              "\n",
              "    [theme=dark] .colab-df-convert:hover {\n",
              "      background-color: #434B5C;\n",
              "      box-shadow: 0px 1px 3px 1px rgba(0, 0, 0, 0.15);\n",
              "      filter: drop-shadow(0px 1px 2px rgba(0, 0, 0, 0.3));\n",
              "      fill: #FFFFFF;\n",
              "    }\n",
              "  </style>\n",
              "\n",
              "    <script>\n",
              "      const buttonEl =\n",
              "        document.querySelector('#df-2b00d8e9-21ee-4c75-b866-d66eb57d05df button.colab-df-convert');\n",
              "      buttonEl.style.display =\n",
              "        google.colab.kernel.accessAllowed ? 'block' : 'none';\n",
              "\n",
              "      async function convertToInteractive(key) {\n",
              "        const element = document.querySelector('#df-2b00d8e9-21ee-4c75-b866-d66eb57d05df');\n",
              "        const dataTable =\n",
              "          await google.colab.kernel.invokeFunction('convertToInteractive',\n",
              "                                                    [key], {});\n",
              "        if (!dataTable) return;\n",
              "\n",
              "        const docLinkHtml = 'Like what you see? Visit the ' +\n",
              "          '<a target=\"_blank\" href=https://colab.research.google.com/notebooks/data_table.ipynb>data table notebook</a>'\n",
              "          + ' to learn more about interactive tables.';\n",
              "        element.innerHTML = '';\n",
              "        dataTable['output_type'] = 'display_data';\n",
              "        await google.colab.output.renderOutput(dataTable, element);\n",
              "        const docLink = document.createElement('div');\n",
              "        docLink.innerHTML = docLinkHtml;\n",
              "        element.appendChild(docLink);\n",
              "      }\n",
              "    </script>\n",
              "  </div>\n",
              "\n",
              "\n",
              "    </div>\n",
              "  </div>\n"
            ],
            "application/vnd.google.colaboratory.intrinsic+json": {
              "type": "dataframe",
              "variable_name": "df2",
              "summary": "{\n  \"name\": \"df2\",\n  \"rows\": 0,\n  \"fields\": [\n    {\n      \"column\": \"Pattern\",\n      \"properties\": {\n        \"dtype\": \"number\",\n        \"std\": null,\n        \"min\": null,\n        \"max\": null,\n        \"num_unique_values\": 0,\n        \"samples\": [],\n        \"semantic_type\": \"\",\n        \"description\": \"\"\n      }\n    },\n    {\n      \"column\": \"Tag\",\n      \"properties\": {\n        \"dtype\": \"number\",\n        \"std\": null,\n        \"min\": null,\n        \"max\": null,\n        \"num_unique_values\": 0,\n        \"samples\": [],\n        \"semantic_type\": \"\",\n        \"description\": \"\"\n      }\n    }\n  ]\n}"
            }
          },
          "metadata": {},
          "execution_count": 12
        }
      ],
      "source": [
        "df2 = df.copy()\n",
        "df2.head()"
      ]
    },
    {
      "cell_type": "markdown",
      "metadata": {
        "id": "KjWCaH5-UujZ"
      },
      "source": [
        "<a id=\"3.3\"></a>\n",
        "### <b>3.3 <span style='color:#B21010'>||</span> Check the shape of the dataset</b>"
      ]
    },
    {
      "cell_type": "code",
      "execution_count": null,
      "metadata": {
        "colab": {
          "base_uri": "https://localhost:8080/"
        },
        "id": "9KkegxiHUujZ",
        "outputId": "397bf9e1-ba9b-4bbf-c1e8-132d80cf65af"
      },
      "outputs": [
        {
          "output_type": "stream",
          "name": "stdout",
          "text": [
            "Chatbot dataset has 0 rows and 2 columns\n"
          ]
        }
      ],
      "source": [
        "def print_shape_df(df, ds_name=\"df\"):\n",
        "    print(f\"{ds_name} dataset has {df.shape[0]} rows and {df.shape[1]} columns\")\n",
        "\n",
        "print_shape_df(df, \"Chatbot\")"
      ]
    },
    {
      "cell_type": "markdown",
      "metadata": {
        "id": "b7t5flCgUujZ"
      },
      "source": [
        "<a id=\"3.4\"></a>\n",
        "### <b>3.4 <span style='color:#B21010'>||</span> Display information about the dataset</b>"
      ]
    },
    {
      "cell_type": "code",
      "execution_count": null,
      "metadata": {
        "colab": {
          "base_uri": "https://localhost:8080/"
        },
        "id": "cW_I9D_DUujZ",
        "outputId": "7e00309b-f107-4dd5-ebd7-bdb1f0c8611d"
      },
      "outputs": [
        {
          "output_type": "stream",
          "name": "stdout",
          "text": [
            "The info of Chatbot dataset\n",
            "\n",
            "<class 'pandas.core.frame.DataFrame'>\n",
            "RangeIndex: 0 entries\n",
            "Data columns (total 2 columns):\n",
            " #   Column   Non-Null Count  Dtype  \n",
            "---  ------   --------------  -----  \n",
            " 0   Pattern  0 non-null      float64\n",
            " 1   Tag      0 non-null      float64\n",
            "dtypes: float64(2)\n",
            "memory usage: 132.0 bytes\n",
            "None\n"
          ]
        }
      ],
      "source": [
        "def print_dfInfo(df, ds_name=\"df\"):\n",
        "    print(f\"The info of {ds_name} dataset\\n\")\n",
        "    print(df.info())\n",
        "\n",
        "print_dfInfo(df, \"Chatbot\")"
      ]
    },
    {
      "cell_type": "markdown",
      "metadata": {
        "id": "G7bD5sGmUuja"
      },
      "source": [
        "<a id=\"3.5\"></a>\n",
        "### <b>3.5 <span style='color:#B21010'>||</span> Display Number of Classes</b>"
      ]
    },
    {
      "cell_type": "code",
      "execution_count": null,
      "metadata": {
        "colab": {
          "base_uri": "https://localhost:8080/"
        },
        "id": "Vg6GXb1wUuja",
        "outputId": "1b94830b-b035-4f35-d760-18dbc5016f34"
      },
      "outputs": [
        {
          "output_type": "stream",
          "name": "stdout",
          "text": [
            "The Chatbot dataset has 0 classes\n"
          ]
        }
      ],
      "source": [
        "def num_classes(df, target_col, ds_name=\"df\"):\n",
        "    print(f\"The {ds_name} dataset has {len(df[target_col].unique())} classes\")\n",
        "\n",
        "num_classes(df, 'Tag', \"Chatbot\")"
      ]
    },
    {
      "cell_type": "markdown",
      "metadata": {
        "id": "hGycZPUzUuja"
      },
      "source": [
        "<a id=\"3.6\"></a>\n",
        "### <b>3.6 <span style='color:#B21010'>||</span> Check the null values in the dataset</b>"
      ]
    },
    {
      "cell_type": "code",
      "execution_count": null,
      "metadata": {
        "colab": {
          "base_uri": "https://localhost:8080/"
        },
        "id": "T_Q7TYVNUuja",
        "outputId": "81f7ed37-265e-46c7-84ee-730b4cee776c"
      },
      "outputs": [
        {
          "output_type": "stream",
          "name": "stdout",
          "text": [
            "Null Values in each col in the Chatbot dataset:\n",
            "\n",
            "Pattern    0\n",
            "Tag        0\n",
            "dtype: int64\n"
          ]
        }
      ],
      "source": [
        "def check_null(df, ds_name='df'):\n",
        "    print(f\"Null Values in each col in the {ds_name} dataset:\\n\")\n",
        "    print(df.isnull().sum())\n",
        "\n",
        "check_null(df, \"Chatbot\")"
      ]
    },
    {
      "cell_type": "markdown",
      "metadata": {
        "id": "nNOldNPkUuja"
      },
      "source": [
        "<a id=\"3.7\"></a>\n",
        "### <b>3.7 <span style='color:#B21010'>||</span> Visualize the Null Values</b>"
      ]
    },
    {
      "cell_type": "code",
      "execution_count": null,
      "metadata": {
        "colab": {
          "base_uri": "https://localhost:8080/"
        },
        "id": "kZF3GcXerbd_",
        "outputId": "90a5ec34-8e49-4b3a-e873-7efdec63acbc"
      },
      "outputs": [
        {
          "output_type": "stream",
          "name": "stdout",
          "text": [
            "Error decoding JSON file: Expecting value: line 1 column 1 (char 0)\n",
            "Error: 'intents' key not found in the JSON file: /content/drive/MyDrive/module-6/dialogs.txt\n"
          ]
        }
      ],
      "source": [
        "def load_json_file(filename):\n",
        "    \"\"\"Loads a JSON file and handles potential decoding errors.\n",
        "\n",
        "    Args:\n",
        "        filename (str): Path to the JSON file.\n",
        "\n",
        "    Returns:\n",
        "        dict: Loaded JSON data, or an empty dictionary if decoding fails.\n",
        "    \"\"\"\n",
        "    try:\n",
        "        with open(filename, 'r', encoding='utf-8') as f:  # Add encoding='utf-8'\n",
        "            data = json.load(f)\n",
        "        return data\n",
        "    except json.JSONDecodeError as e:\n",
        "        print(f\"Error decoding JSON file: {e}\")\n",
        "        # You can handle the error by returning an empty dictionary or raising an exception\n",
        "        return {}  # Returning an empty dictionary to avoid halting the execution\n",
        "\n",
        "def create_df():\n",
        "    df = pd.DataFrame({\n",
        "        'Pattern' : [],\n",
        "        'Tag' : []\n",
        "    })\n",
        "    return df\n",
        "\n",
        "df = create_df()\n",
        "\n",
        "# Load data\n",
        "intents = load_json_file(filename)\n",
        "\n",
        "# Check if 'intents' key exists before accessing it\n",
        "if 'intents' in intents:\n",
        "    # Populate DataFrame\n",
        "    for intent in intents['intents']: # Assuming your JSON has 'intents' key\n",
        "        for pattern in intent['patterns']: # Assuming 'patterns' within 'intents'\n",
        "            df.loc[len(df)] = [pattern, intent['tag']] # Assuming 'tag' within 'intents'\n",
        "else:\n",
        "    print(f\"Error: 'intents' key not found in the JSON file: {filename}\")\n",
        "    # You might want to handle this error differently, e.g., raise an exception\n",
        "\n",
        "# ... (your visualization functions)"
      ]
    },
    {
      "cell_type": "markdown",
      "metadata": {
        "id": "3-0tfPaKUujb"
      },
      "source": [
        "<a id=\"3.8\"></a>\n",
        "### <b>3.8 <span style='color:#B21010'>||</span> Visualize the distrbution of our Classes</b>"
      ]
    },
    {
      "cell_type": "code",
      "execution_count": null,
      "metadata": {
        "id": "5zYZziNkUujb"
      },
      "outputs": [],
      "source": [
        "def count_plot(x, df, title, xlabel, ylabel, width, height, order = None, rotation=False, palette='winter', hue=None):\n",
        "    ncount = len(df)\n",
        "    plt.figure(figsize=(width,height))\n",
        "    ax = sns.countplot(x = x, palette=palette, order = order, hue=hue)\n",
        "    plt.title(title, fontsize=20)\n",
        "    if rotation:\n",
        "        plt.xticks(rotation = 'vertical')\n",
        "    plt.xlabel(xlabel, fontsize=25)\n",
        "    plt.ylabel(ylabel, fontsize=25)\n",
        "\n",
        "    ax.yaxis.set_label_position('left')\n",
        "    for p in ax.patches:\n",
        "        x=p.get_bbox().get_points()[:,0]\n",
        "        y=p.get_bbox().get_points()[1,1]\n",
        "        ax.annotate('{:.1f}%'.format(100.*y/ncount), (x.mean(), y),\n",
        "                ha='center', va='bottom') # set the alignment of the text\n",
        "\n",
        "    plt.show()"
      ]
    },
    {
      "cell_type": "code",
      "execution_count": null,
      "metadata": {
        "colab": {
          "base_uri": "https://localhost:8080/",
          "height": 877
        },
        "id": "bHvwqiRaUujb",
        "outputId": "72945798-3ba8-4f5f-c60a-375faef89699"
      },
      "outputs": [
        {
          "output_type": "display_data",
          "data": {
            "text/plain": [
              "<Figure size 2000x1000 with 1 Axes>"
            ],
            "image/png": "[encoded data removed]"
          },
          "metadata": {}
        }
      ],
      "source": [
        "sns.set(font_scale = 1.2)\n",
        "order = df['Tag'].value_counts().index\n",
        "count_plot(df['Tag'], df, \"Chatbot Tags distrbution\", \"Tags\", \"Frequency\", 20,10, order=order,rotation=True, palette=\"summer\")"
      ]
    },
    {
      "cell_type": "code",
      "execution_count": null,
      "metadata": {
        "colab": {
          "base_uri": "https://localhost:8080/"
        },
        "id": "MZO2IAmiWtrQ",
        "outputId": "c48dd829-3a37-4e97-b840-7246d89554e5"
      },
      "outputs": [
        {
          "output_type": "stream",
          "name": "stdout",
          "text": [
            "Requirement already satisfied: nltk in /usr/local/lib/python3.11/dist-packages (3.9.1)\n",
            "Requirement already satisfied: click in /usr/local/lib/python3.11/dist-packages (from nltk) (8.1.8)\n",
            "Requirement already satisfied: joblib in /usr/local/lib/python3.11/dist-packages (from nltk) (1.4.2)\n",
            "Requirement already satisfied: regex>=2021.8.3 in /usr/local/lib/python3.11/dist-packages (from nltk) (2024.11.6)\n",
            "Requirement already satisfied: tqdm in /usr/local/lib/python3.11/dist-packages (from nltk) (4.67.1)\n"
          ]
        },
        {
          "output_type": "stream",
          "name": "stderr",
          "text": [
            "[nltk_data] Downloading package punkt to /root/nltk_data...\n",
            "[nltk_data]   Package punkt is already up-to-date!\n"
          ]
        }
      ],
      "source": [
        "!pip install nltk\n",
        "import nltk\n",
        "\n",
        "nltk.download('punkt')\n",
        "\n",
        "stemmer = PorterStemmer()\n",
        "ignore_words=['?', '!', ',', '.']\n",
        "\n",
        "def preprocess_pattern(pattern):\n",
        "    words = word_tokenize(pattern.lower())\n",
        "    stemmed_words = [stemmer.stem(word) for word in words if word not in ignore_words]\n",
        "    return \" \".join(stemmed_words)\n",
        "\n",
        "df['Pattern'] = df['Pattern'].apply(preprocess_pattern)"
      ]
    },
    {
      "cell_type": "code",
      "execution_count": null,
      "metadata": {
        "colab": {
          "base_uri": "https://localhost:8080/",
          "height": 53
        },
        "id": "Tv9MW0C7Uujb",
        "outputId": "6d17c9f5-46aa-4b4e-f76f-12d4b449ac1a"
      },
      "outputs": [
        {
          "output_type": "execute_result",
          "data": {
            "text/plain": [
              "Empty DataFrame\n",
              "Columns: [Pattern, Tag]\n",
              "Index: []"
            ],
            "text/html": [
              "\n",
              "  <div id=\"df-4f690a4f-b78d-4890-937c-afd42b4a1cc6\" class=\"colab-df-container\">\n",
              "    <div>\n",
              "<style scoped>\n",
              "    .dataframe tbody tr th:only-of-type {\n",
              "        vertical-align: middle;\n",
              "    }\n",
              "\n",
              "    .dataframe tbody tr th {\n",
              "        vertical-align: top;\n",
              "    }\n",
              "\n",
              "    .dataframe thead th {\n",
              "        text-align: right;\n",
              "    }\n",
              "</style>\n",
              "<table border=\"1\" class=\"dataframe\">\n",
              "  <thead>\n",
              "    <tr style=\"text-align: right;\">\n",
              "      <th></th>\n",
              "      <th>Pattern</th>\n",
              "      <th>Tag</th>\n",
              "    </tr>\n",
              "  </thead>\n",
              "  <tbody>\n",
              "  </tbody>\n",
              "</table>\n",
              "</div>\n",
              "    <div class=\"colab-df-buttons\">\n",
              "\n",
              "  <div class=\"colab-df-container\">\n",
              "    <button class=\"colab-df-convert\" onclick=\"convertToInteractive('df-4f690a4f-b78d-4890-937c-afd42b4a1cc6')\"\n",
              "            title=\"Convert this dataframe to an interactive table.\"\n",
              "            style=\"display:none;\">\n",
              "\n",
              "  <svg xmlns=\"http://www.w3.org/2000/svg\" height=\"24px\" viewBox=\"0 -960 960 960\">\n",
              "    <path d=\"M120-120v-720h720v720H120Zm60-500h600v-160H180v160Zm220 220h160v-160H400v160Zm0 220h160v-160H400v160ZM180-400h160v-160H180v160Zm440 0h160v-160H620v160ZM180-180h160v-160H180v160Zm440 0h160v-160H620v160Z\"/>\n",
              "  </svg>\n",
              "    </button>\n",
              "\n",
              "  <style>\n",
              "    .colab-df-container {\n",
              "      display:flex;\n",
              "      gap: 12px;\n",
              "    }\n",
              "\n",
              "    .colab-df-convert {\n",
              "      background-color: #E8F0FE;\n",
              "      border: none;\n",
              "      border-radius: 50%;\n",
              "      cursor: pointer;\n",
              "      display: none;\n",
              "      fill: #1967D2;\n",
              "      height: 32px;\n",
              "      padding: 0 0 0 0;\n",
              "      width: 32px;\n",
              "    }\n",
              "\n",
              "    .colab-df-convert:hover {\n",
              "      background-color: #E2EBFA;\n",
              "      box-shadow: 0px 1px 2px rgba(60, 64, 67, 0.3), 0px 1px 3px 1px rgba(60, 64, 67, 0.15);\n",
              "      fill: #174EA6;\n",
              "    }\n",
              "\n",
              "    .colab-df-buttons div {\n",
              "      margin-bottom: 4px;\n",
              "    }\n",
              "\n",
              "    [theme=dark] .colab-df-convert {\n",
              "      background-color: #3B4455;\n",
              "      fill: #D2E3FC;\n",
              "    }\n",
              "\n",
              "    [theme=dark] .colab-df-convert:hover {\n",
              "      background-color: #434B5C;\n",
              "      box-shadow: 0px 1px 3px 1px rgba(0, 0, 0, 0.15);\n",
              "      filter: drop-shadow(0px 1px 2px rgba(0, 0, 0, 0.3));\n",
              "      fill: #FFFFFF;\n",
              "    }\n",
              "  </style>\n",
              "\n",
              "    <script>\n",
              "      const buttonEl =\n",
              "        document.querySelector('#df-4f690a4f-b78d-4890-937c-afd42b4a1cc6 button.colab-df-convert');\n",
              "      buttonEl.style.display =\n",
              "        google.colab.kernel.accessAllowed ? 'block' : 'none';\n",
              "\n",
              "      async function convertToInteractive(key) {\n",
              "        const element = document.querySelector('#df-4f690a4f-b78d-4890-937c-afd42b4a1cc6');\n",
              "        const dataTable =\n",
              "          await google.colab.kernel.invokeFunction('convertToInteractive',\n",
              "                                                    [key], {});\n",
              "        if (!dataTable) return;\n",
              "\n",
              "        const docLinkHtml = 'Like what you see? Visit the ' +\n",
              "          '<a target=\"_blank\" href=https://colab.research.google.com/notebooks/data_table.ipynb>data table notebook</a>'\n",
              "          + ' to learn more about interactive tables.';\n",
              "        element.innerHTML = '';\n",
              "        dataTable['output_type'] = 'display_data';\n",
              "        await google.colab.output.renderOutput(dataTable, element);\n",
              "        const docLink = document.createElement('div');\n",
              "        docLink.innerHTML = docLinkHtml;\n",
              "        element.appendChild(docLink);\n",
              "      }\n",
              "    </script>\n",
              "  </div>\n",
              "\n",
              "\n",
              "    </div>\n",
              "  </div>\n"
            ],
            "application/vnd.google.colaboratory.intrinsic+json": {
              "type": "dataframe",
              "variable_name": "df",
              "summary": "{\n  \"name\": \"df\",\n  \"rows\": 0,\n  \"fields\": [\n    {\n      \"column\": \"Pattern\",\n      \"properties\": {\n        \"dtype\": \"number\",\n        \"std\": null,\n        \"min\": null,\n        \"max\": null,\n        \"num_unique_values\": 0,\n        \"samples\": [],\n        \"semantic_type\": \"\",\n        \"description\": \"\"\n      }\n    },\n    {\n      \"column\": \"Tag\",\n      \"properties\": {\n        \"dtype\": \"number\",\n        \"std\": null,\n        \"min\": null,\n        \"max\": null,\n        \"num_unique_values\": 0,\n        \"samples\": [],\n        \"semantic_type\": \"\",\n        \"description\": \"\"\n      }\n    }\n  ]\n}"
            }
          },
          "metadata": {},
          "execution_count": 21
        }
      ],
      "source": [
        "df.head()"
      ]
    },
    {
      "cell_type": "code",
      "execution_count": null,
      "metadata": {
        "colab": {
          "base_uri": "https://localhost:8080/"
        },
        "id": "1cz8GRfmUujc",
        "outputId": "daa34793-19bf-47d3-ce03-52d6df95f077"
      },
      "outputs": [
        {
          "output_type": "stream",
          "name": "stdout",
          "text": [
            "0\n"
          ]
        }
      ],
      "source": [
        "print(df['Pattern'].isnull().sum())"
      ]
    },
    {
      "cell_type": "markdown",
      "metadata": {
        "id": "SGWGQsP0Uujc"
      },
      "source": [
        "<a id=\"3.9\"></a>\n",
        "### <b>3.9 <span style='color:#B21010'>||</span> Display Word Cloud</b>"
      ]
    },
    {
      "cell_type": "code",
      "execution_count": null,
      "metadata": {
        "id": "L_NXmFunsO6q"
      },
      "outputs": [],
      "source": [
        "import json\n",
        "import numpy as np\n",
        "import pandas as pd\n",
        "import random\n",
        "from matplotlib import pyplot as plt\n",
        "import seaborn as sns\n",
        "from wordcloud import WordCloud, STOPWORDS\n",
        "import missingno as msno\n",
        "\n",
        "from sklearn.feature_extraction.text import CountVectorizer\n",
        "from sklearn.model_selection import train_test_split\n",
        "from sklearn.metrics import accuracy_score, precision_recall_fscore_support\n",
        "\n",
        "# from keras.preprocessing import text\n",
        "import keras\n",
        "from keras.models import Sequential\n",
        "from keras.layers import Dense, Embedding, LSTM, Dropout\n",
        "from keras.callbacks import ReduceLROnPlateau\n",
        "\n",
        "from tensorflow.keras.preprocessing.sequence import pad_sequences\n",
        "import nltk\n",
        "from nltk import word_tokenize\n",
        "from nltk.stem import PorterStemmer\n",
        "\n",
        "import torch\n",
        "from torch.utils.data import Dataset\n",
        "\n",
        "from transformers import AutoTokenizer, TFAutoModelForSequenceClassification\n",
        "from transformers import pipeline\n",
        "from transformers import DistilBertTokenizerFast\n",
        "from transformers import BertForSequenceClassification, BertTokenizerFast\n",
        "# from transformers import TFDistilBertForSequenceClassification, TFTrainer, TFTrainingArguments\n",
        "from transformers import BertTokenizer, TFBertForSequenceClassification, BertConfig\n",
        "from transformers import TrainingArguments, Trainer\n",
        "\n",
        "\n",
        "def load_json_file(filename):\n",
        "    \"\"\"Loads a JSON file and handles potential decoding errors.\n",
        "\n",
        "    Args:\n",
        "        filename (str): Path to the JSON file.\n",
        "\n",
        "    Returns:\n",
        "        dict: Loaded JSON data, or an empty dictionary if decoding fails.\n",
        "    \"\"\""
      ]
    },
    {
      "cell_type": "markdown",
      "metadata": {
        "id": "bTf2yT08Uujc"
      },
      "source": [
        "<a id=\"3.10\"></a>\n",
        "### <b>3.10 <span style='color:#B21010'>||</span> Distrbution of Number of letters in each text</b>"
      ]
    },
    {
      "cell_type": "code",
      "execution_count": null,
      "metadata": {
        "colab": {
          "base_uri": "https://localhost:8080/",
          "height": 485
        },
        "id": "i1FLEb0JtVyw",
        "outputId": "48d86c9e-0bf4-46d0-9297-162058adf69d"
      },
      "outputs": [
        {
          "output_type": "display_data",
          "data": {
            "text/plain": [
              "<Figure size 640x480 with 1 Axes>"
            ],
            "image/png": "[encoded data removed]"
          },
          "metadata": {}
        }
      ],
      "source": [
        "# Assuming 'df' is your DataFrame\n",
        "df['Pattern'] = df['Pattern'].astype(str)  # Convert the column to string type\n",
        "\n",
        "letters_len = df['Pattern'].str.len()\n",
        "plt.hist(letters_len, color='red')\n",
        "plt.title(\"Distrbution of Number of letters in each text\")\n",
        "plt.xlabel(\"Num of letters\")\n",
        "plt.ylabel(\"Frequency\")\n",
        "plt.show()"
      ]
    },
    {
      "cell_type": "markdown",
      "metadata": {
        "id": "1yeEoX4jUujd"
      },
      "source": [
        "<a id=\"3.11\"></a>\n",
        "### <b>3.11 <span style='color:#B21010'>||</span> Distrbution of Number of words in each text</b>"
      ]
    },
    {
      "cell_type": "code",
      "execution_count": null,
      "metadata": {
        "colab": {
          "base_uri": "https://localhost:8080/",
          "height": 485
        },
        "id": "ZvxUdTufslzF",
        "outputId": "cccf6fca-cfc3-4465-b5aa-3e94122d643d"
      },
      "outputs": [
        {
          "output_type": "display_data",
          "data": {
            "text/plain": [
              "<Figure size 640x480 with 1 Axes>"
            ],
            "image/png": "[encoded data removed]"
          },
          "metadata": {}
        }
      ],
      "source": [
        "import json\n",
        "import numpy as np\n",
        "import pandas as pd\n",
        "import random\n",
        "from matplotlib import pyplot as plt\n",
        "import seaborn as sns\n",
        "from wordcloud import WordCloud, STOPWORDS\n",
        "import missingno as msno\n",
        "\n",
        "from sklearn.feature_extraction.text import CountVectorizer\n",
        "from sklearn.model_selection import train_test_split\n",
        "from sklearn.metrics import accuracy_score, precision_recall_fscore_support\n",
        "\n",
        "# from keras.preprocessing import text\n",
        "import keras\n",
        "from keras.models import Sequential\n",
        "from keras.layers import Dense, Embedding, LSTM, Dropout\n",
        "from keras.callbacks import ReduceLROnPlateau\n",
        "\n",
        "from tensorflow.keras.preprocessing.sequence import pad_sequences\n",
        "import nltk\n",
        "from nltk import word_tokenize\n",
        "from nltk.stem import PorterStemmer\n",
        "\n",
        "import torch\n",
        "from torch.utils.data import Dataset\n",
        "\n",
        "from transformers import AutoTokenizer, TFAutoModelForSequenceClassification\n",
        "from transformers import pipeline\n",
        "from transformers import DistilBertTokenizerFast\n",
        "from transformers import BertForSequenceClassification, BertTokenizerFast\n",
        "# from transformers import TFDistilBertForSequenceClassification, TFTrainer, TFTrainingArguments\n",
        "from transformers import BertTokenizer, TFBertForSequenceClassification, BertConfig\n",
        "from transformers import TrainingArguments, Trainer\n",
        "\n",
        "\n",
        "def load_json_file(filename):\n",
        "    \"\"\"Loads a JSON file and handles potential decoding errors.\n",
        "\n",
        "    Args:\n",
        "        filename (str): Path to the JSON file.\n",
        "\n",
        "    Returns:\n",
        "        dict: Loaded JSON data, or an empty dictionary if decoding fails.\n",
        "    \"\"\"\n",
        "\n",
        "\n",
        "# Assuming 'df' is your DataFrame\n",
        "df['Pattern'] = df['Pattern'].astype(str)  # Convert the column to string type\n",
        "\n",
        "letters_len = df['Pattern'].str.len()\n",
        "plt.hist(letters_len, color='red')\n",
        "plt.title(\"Distrbution of Number of letters in each text\")\n",
        "plt.xlabel(\"Num of letters\")\n",
        "plt.ylabel(\"Frequency\")\n",
        "plt.show()"
      ]
    },
    {
      "cell_type": "markdown",
      "metadata": {
        "id": "BoxmkfROUujd"
      },
      "source": [
        "<a id=\"3.12\"></a>\n",
        "### <b>3.12 <span style='color:#B21010'>||</span> Visualize Average word length in each text</b>"
      ]
    },
    {
      "cell_type": "code",
      "execution_count": null,
      "metadata": {
        "colab": {
          "base_uri": "https://localhost:8080/",
          "height": 722
        },
        "id": "BqayzTxhUujd",
        "outputId": "22d982d2-9cc0-4e38-88d0-a014554ca791"
      },
      "outputs": [
        {
          "output_type": "stream",
          "name": "stderr",
          "text": [
            "<ipython-input-26-c5010b3a990f>:3: UserWarning: \n",
            "\n",
            "`distplot` is a deprecated function and will be removed in seaborn v0.14.0.\n",
            "\n",
            "Please adapt your code to use either `displot` (a figure-level function with\n",
            "similar flexibility) or `histplot` (an axes-level function for histograms).\n",
            "\n",
            "For a guide to updating your code to use the new functions, please see\n",
            "https://gist.github.com/mwaskom/de44147ed2974457ad6372750bbe5751\n",
            "\n",
            "  sns.distplot(word,color='red')\n",
            "/usr/local/lib/python3.11/dist-packages/numpy/lib/_histograms_impl.py:895: RuntimeWarning: invalid value encountered in divide\n",
            "  return n/db/n.sum(), bin_edges\n"
          ]
        },
        {
          "output_type": "display_data",
          "data": {
            "text/plain": [
              "<Figure size 640x480 with 1 Axes>"
            ],
            "image/png": "[encoded data removed]"
          },
          "metadata": {}
        }
      ],
      "source": [
        "word=df['Pattern'].str.split().apply(lambda x : [len(i) for i in x])\n",
        "word = word.map(lambda x: np.mean(x))\n",
        "sns.distplot(word,color='red')\n",
        "plt.title(\"Average word length in each text\")\n",
        "plt.xlabel(\"Num of words\")\n",
        "plt.ylabel(\"Precentage\")\n",
        "plt.show()"
      ]
    },
    {
      "cell_type": "markdown",
      "metadata": {
        "id": "BklqYlk2Uujd"
      },
      "source": [
        "<a id=\"3.13\"></a>\n",
        "### <b>3.13 <span style='color:#B21010'>||</span> Visualize top words</b>"
      ]
    },
    {
      "cell_type": "code",
      "execution_count": null,
      "metadata": {
        "colab": {
          "base_uri": "https://localhost:8080/"
        },
        "id": "m8nUYsqBUujd",
        "outputId": "1f4a33a8-1fa4-47f9-c86a-d84b7068f490"
      },
      "outputs": [
        {
          "output_type": "execute_result",
          "data": {
            "text/plain": [
              "[]"
            ]
          },
          "metadata": {},
          "execution_count": 27
        }
      ],
      "source": [
        "def get_corpus(series):\n",
        "    words = []\n",
        "    for text in series:\n",
        "        for word in text.split():\n",
        "            words.append(word.strip())\n",
        "    return words\n",
        "\n",
        "corpus = get_corpus(df.Pattern)\n",
        "corpus[:5]"
      ]
    },
    {
      "cell_type": "code",
      "execution_count": null,
      "metadata": {
        "colab": {
          "base_uri": "https://localhost:8080/"
        },
        "id": "SWP_UF7mUuje",
        "outputId": "3d3069e1-aba4-48bd-fb30-e02b93efa89c"
      },
      "outputs": [
        {
          "output_type": "stream",
          "name": "stdout",
          "text": [
            "dataset contains 0 words\n"
          ]
        }
      ],
      "source": [
        "print(f\"dataset contains {len(corpus)} words\")"
      ]
    },
    {
      "cell_type": "code",
      "execution_count": null,
      "metadata": {
        "colab": {
          "base_uri": "https://localhost:8080/"
        },
        "id": "ET3IIMncUuje",
        "outputId": "e6d69b97-eca7-4ac9-f3eb-f185dbe1ecbe"
      },
      "outputs": [
        {
          "output_type": "execute_result",
          "data": {
            "text/plain": [
              "{}"
            ]
          },
          "metadata": {},
          "execution_count": 29
        }
      ],
      "source": [
        "from collections import Counter\n",
        "counter = Counter(corpus)\n",
        "most_common = counter.most_common(10)\n",
        "most_common = dict(most_common)\n",
        "most_common"
      ]
    },
    {
      "cell_type": "code",
      "execution_count": null,
      "metadata": {
        "id": "CA5dyzznUuje"
      },
      "outputs": [],
      "source": [
        "def get_top_text_ngrams(corpus, n,g):\n",
        "    vec = CountVectorizer(ngram_range=(1, 1)).fit(corpus)\n",
        "    bag_of_words = vec.transform(corpus)\n",
        "    sum_words = bag_of_words.sum(axis=0)\n",
        "    words_freq = [(word, sum_words[0, idx]) for word, idx in vec.vocabulary_.items()]\n",
        "    words_freq =sorted(words_freq, key = lambda x: x[1], reverse=True)\n",
        "    return words_freq[:n]"
      ]
    },
    {
      "cell_type": "code",
      "execution_count": null,
      "metadata": {
        "id": "uaUmtt2t2UWX"
      },
      "outputs": [],
      "source": [
        "def create_df():\n",
        "    \"\"\"Creates an empty DataFrame with 'Pattern' and 'Tag' columns.\n",
        "\n",
        "    Returns:\n",
        "        pd.DataFrame: An empty DataFrame.\n",
        "    \"\"\"\n",
        "    df = pd.DataFrame({  # This line should be indented\n",
        "        'Pattern': [],  # This line should be indented\n",
        "        'Tag': []  # This line should be indented\n",
        "    })\n",
        "    return df  # This line should be indented"
      ]
    },
    {
      "cell_type": "markdown",
      "metadata": {
        "id": "G3yXLYxDUujm"
      },
      "source": [
        "<a id=\"4\"></a>\n",
        "## <b>4 <span style='color:#B21010'>||</span> Data Preprocessing</b>"
      ]
    },
    {
      "cell_type": "code",
      "execution_count": null,
      "metadata": {
        "colab": {
          "base_uri": "https://localhost:8080/",
          "height": 53
        },
        "id": "tU8Y3wh1Uujm",
        "outputId": "806d52f4-ac4a-42c9-d735-07914f0b0717"
      },
      "outputs": [
        {
          "output_type": "execute_result",
          "data": {
            "text/plain": [
              "Empty DataFrame\n",
              "Columns: [Pattern, Tag]\n",
              "Index: []"
            ],
            "text/html": [
              "\n",
              "  <div id=\"df-187f7d93-c12d-47d0-b5fc-3042308096c5\" class=\"colab-df-container\">\n",
              "    <div>\n",
              "<style scoped>\n",
              "    .dataframe tbody tr th:only-of-type {\n",
              "        vertical-align: middle;\n",
              "    }\n",
              "\n",
              "    .dataframe tbody tr th {\n",
              "        vertical-align: top;\n",
              "    }\n",
              "\n",
              "    .dataframe thead th {\n",
              "        text-align: right;\n",
              "    }\n",
              "</style>\n",
              "<table border=\"1\" class=\"dataframe\">\n",
              "  <thead>\n",
              "    <tr style=\"text-align: right;\">\n",
              "      <th></th>\n",
              "      <th>Pattern</th>\n",
              "      <th>Tag</th>\n",
              "    </tr>\n",
              "  </thead>\n",
              "  <tbody>\n",
              "  </tbody>\n",
              "</table>\n",
              "</div>\n",
              "    <div class=\"colab-df-buttons\">\n",
              "\n",
              "  <div class=\"colab-df-container\">\n",
              "    <button class=\"colab-df-convert\" onclick=\"convertToInteractive('df-187f7d93-c12d-47d0-b5fc-3042308096c5')\"\n",
              "            title=\"Convert this dataframe to an interactive table.\"\n",
              "            style=\"display:none;\">\n",
              "\n",
              "  <svg xmlns=\"http://www.w3.org/2000/svg\" height=\"24px\" viewBox=\"0 -960 960 960\">\n",
              "    <path d=\"M120-120v-720h720v720H120Zm60-500h600v-160H180v160Zm220 220h160v-160H400v160Zm0 220h160v-160H400v160ZM180-400h160v-160H180v160Zm440 0h160v-160H620v160ZM180-180h160v-160H180v160Zm440 0h160v-160H620v160Z\"/>\n",
              "  </svg>\n",
              "    </button>\n",
              "\n",
              "  <style>\n",
              "    .colab-df-container {\n",
              "      display:flex;\n",
              "      gap: 12px;\n",
              "    }\n",
              "\n",
              "    .colab-df-convert {\n",
              "      background-color: #E8F0FE;\n",
              "      border: none;\n",
              "      border-radius: 50%;\n",
              "      cursor: pointer;\n",
              "      display: none;\n",
              "      fill: #1967D2;\n",
              "      height: 32px;\n",
              "      padding: 0 0 0 0;\n",
              "      width: 32px;\n",
              "    }\n",
              "\n",
              "    .colab-df-convert:hover {\n",
              "      background-color: #E2EBFA;\n",
              "      box-shadow: 0px 1px 2px rgba(60, 64, 67, 0.3), 0px 1px 3px 1px rgba(60, 64, 67, 0.15);\n",
              "      fill: #174EA6;\n",
              "    }\n",
              "\n",
              "    .colab-df-buttons div {\n",
              "      margin-bottom: 4px;\n",
              "    }\n",
              "\n",
              "    [theme=dark] .colab-df-convert {\n",
              "      background-color: #3B4455;\n",
              "      fill: #D2E3FC;\n",
              "    }\n",
              "\n",
              "    [theme=dark] .colab-df-convert:hover {\n",
              "      background-color: #434B5C;\n",
              "      box-shadow: 0px 1px 3px 1px rgba(0, 0, 0, 0.15);\n",
              "      filter: drop-shadow(0px 1px 2px rgba(0, 0, 0, 0.3));\n",
              "      fill: #FFFFFF;\n",
              "    }\n",
              "  </style>\n",
              "\n",
              "    <script>\n",
              "      const buttonEl =\n",
              "        document.querySelector('#df-187f7d93-c12d-47d0-b5fc-3042308096c5 button.colab-df-convert');\n",
              "      buttonEl.style.display =\n",
              "        google.colab.kernel.accessAllowed ? 'block' : 'none';\n",
              "\n",
              "      async function convertToInteractive(key) {\n",
              "        const element = document.querySelector('#df-187f7d93-c12d-47d0-b5fc-3042308096c5');\n",
              "        const dataTable =\n",
              "          await google.colab.kernel.invokeFunction('convertToInteractive',\n",
              "                                                    [key], {});\n",
              "        if (!dataTable) return;\n",
              "\n",
              "        const docLinkHtml = 'Like what you see? Visit the ' +\n",
              "          '<a target=\"_blank\" href=https://colab.research.google.com/notebooks/data_table.ipynb>data table notebook</a>'\n",
              "          + ' to learn more about interactive tables.';\n",
              "        element.innerHTML = '';\n",
              "        dataTable['output_type'] = 'display_data';\n",
              "        await google.colab.output.renderOutput(dataTable, element);\n",
              "        const docLink = document.createElement('div');\n",
              "        docLink.innerHTML = docLinkHtml;\n",
              "        element.appendChild(docLink);\n",
              "      }\n",
              "    </script>\n",
              "  </div>\n",
              "\n",
              "\n",
              "    </div>\n",
              "  </div>\n"
            ],
            "application/vnd.google.colaboratory.intrinsic+json": {
              "type": "dataframe",
              "variable_name": "df2",
              "summary": "{\n  \"name\": \"df2\",\n  \"rows\": 0,\n  \"fields\": [\n    {\n      \"column\": \"Pattern\",\n      \"properties\": {\n        \"dtype\": \"number\",\n        \"std\": null,\n        \"min\": null,\n        \"max\": null,\n        \"num_unique_values\": 0,\n        \"samples\": [],\n        \"semantic_type\": \"\",\n        \"description\": \"\"\n      }\n    },\n    {\n      \"column\": \"Tag\",\n      \"properties\": {\n        \"dtype\": \"number\",\n        \"std\": null,\n        \"min\": null,\n        \"max\": null,\n        \"num_unique_values\": 0,\n        \"samples\": [],\n        \"semantic_type\": \"\",\n        \"description\": \"\"\n      }\n    }\n  ]\n}"
            }
          },
          "metadata": {},
          "execution_count": 32
        }
      ],
      "source": [
        "df2.head()"
      ]
    },
    {
      "cell_type": "code",
      "execution_count": null,
      "metadata": {
        "colab": {
          "base_uri": "https://localhost:8080/"
        },
        "id": "h_8sNG1gUujm",
        "outputId": "a118be43-3413-4f04-81f6-f871fb2719d9"
      },
      "outputs": [
        {
          "output_type": "execute_result",
          "data": {
            "text/plain": [
              "[]"
            ]
          },
          "metadata": {},
          "execution_count": 33
        }
      ],
      "source": [
        "labels = df2['Tag'].unique().tolist()\n",
        "labels = [s.strip() for s in labels]\n",
        "labels"
      ]
    },
    {
      "cell_type": "code",
      "execution_count": null,
      "metadata": {
        "id": "58ZWWHVhUujn"
      },
      "outputs": [],
      "source": [
        "num_labels = len(labels)\n",
        "id2label = {id:label for id, label in enumerate(labels)}\n",
        "label2id = {label:id for id, label in enumerate(labels)}"
      ]
    },
    {
      "cell_type": "code",
      "execution_count": null,
      "metadata": {
        "colab": {
          "base_uri": "https://localhost:8080/"
        },
        "id": "69Eiu6jIUujn",
        "outputId": "a20c7694-522e-4ae8-e9ed-fb409cbc0ce1"
      },
      "outputs": [
        {
          "output_type": "execute_result",
          "data": {
            "text/plain": [
              "{}"
            ]
          },
          "metadata": {},
          "execution_count": 35
        }
      ],
      "source": [
        "id2label"
      ]
    },
    {
      "cell_type": "code",
      "execution_count": null,
      "metadata": {
        "colab": {
          "base_uri": "https://localhost:8080/"
        },
        "id": "IrXIOeUKUujn",
        "outputId": "8a7e34ff-12ae-45ac-9668-0769ed48e47f"
      },
      "outputs": [
        {
          "output_type": "execute_result",
          "data": {
            "text/plain": [
              "{}"
            ]
          },
          "metadata": {},
          "execution_count": 36
        }
      ],
      "source": [
        "label2id"
      ]
    },
    {
      "cell_type": "code",
      "execution_count": null,
      "metadata": {
        "colab": {
          "base_uri": "https://localhost:8080/",
          "height": 53
        },
        "id": "NiYSStQpUujn",
        "outputId": "a32a47aa-a472-4e8c-be76-7d35d167ac74"
      },
      "outputs": [
        {
          "output_type": "execute_result",
          "data": {
            "text/plain": [
              "Empty DataFrame\n",
              "Columns: [Pattern, Tag, labels]\n",
              "Index: []"
            ],
            "text/html": [
              "\n",
              "  <div id=\"df-4facb898-de02-43bc-8de6-77ac8a4add20\" class=\"colab-df-container\">\n",
              "    <div>\n",
              "<style scoped>\n",
              "    .dataframe tbody tr th:only-of-type {\n",
              "        vertical-align: middle;\n",
              "    }\n",
              "\n",
              "    .dataframe tbody tr th {\n",
              "        vertical-align: top;\n",
              "    }\n",
              "\n",
              "    .dataframe thead th {\n",
              "        text-align: right;\n",
              "    }\n",
              "</style>\n",
              "<table border=\"1\" class=\"dataframe\">\n",
              "  <thead>\n",
              "    <tr style=\"text-align: right;\">\n",
              "      <th></th>\n",
              "      <th>Pattern</th>\n",
              "      <th>Tag</th>\n",
              "      <th>labels</th>\n",
              "    </tr>\n",
              "  </thead>\n",
              "  <tbody>\n",
              "  </tbody>\n",
              "</table>\n",
              "</div>\n",
              "    <div class=\"colab-df-buttons\">\n",
              "\n",
              "  <div class=\"colab-df-container\">\n",
              "    <button class=\"colab-df-convert\" onclick=\"convertToInteractive('df-4facb898-de02-43bc-8de6-77ac8a4add20')\"\n",
              "            title=\"Convert this dataframe to an interactive table.\"\n",
              "            style=\"display:none;\">\n",
              "\n",
              "  <svg xmlns=\"http://www.w3.org/2000/svg\" height=\"24px\" viewBox=\"0 -960 960 960\">\n",
              "    <path d=\"M120-120v-720h720v720H120Zm60-500h600v-160H180v160Zm220 220h160v-160H400v160Zm0 220h160v-160H400v160ZM180-400h160v-160H180v160Zm440 0h160v-160H620v160ZM180-180h160v-160H180v160Zm440 0h160v-160H620v160Z\"/>\n",
              "  </svg>\n",
              "    </button>\n",
              "\n",
              "  <style>\n",
              "    .colab-df-container {\n",
              "      display:flex;\n",
              "      gap: 12px;\n",
              "    }\n",
              "\n",
              "    .colab-df-convert {\n",
              "      background-color: #E8F0FE;\n",
              "      border: none;\n",
              "      border-radius: 50%;\n",
              "      cursor: pointer;\n",
              "      display: none;\n",
              "      fill: #1967D2;\n",
              "      height: 32px;\n",
              "      padding: 0 0 0 0;\n",
              "      width: 32px;\n",
              "    }\n",
              "\n",
              "    .colab-df-convert:hover {\n",
              "      background-color: #E2EBFA;\n",
              "      box-shadow: 0px 1px 2px rgba(60, 64, 67, 0.3), 0px 1px 3px 1px rgba(60, 64, 67, 0.15);\n",
              "      fill: #174EA6;\n",
              "    }\n",
              "\n",
              "    .colab-df-buttons div {\n",
              "      margin-bottom: 4px;\n",
              "    }\n",
              "\n",
              "    [theme=dark] .colab-df-convert {\n",
              "      background-color: #3B4455;\n",
              "      fill: #D2E3FC;\n",
              "    }\n",
              "\n",
              "    [theme=dark] .colab-df-convert:hover {\n",
              "      background-color: #434B5C;\n",
              "      box-shadow: 0px 1px 3px 1px rgba(0, 0, 0, 0.15);\n",
              "      filter: drop-shadow(0px 1px 2px rgba(0, 0, 0, 0.3));\n",
              "      fill: #FFFFFF;\n",
              "    }\n",
              "  </style>\n",
              "\n",
              "    <script>\n",
              "      const buttonEl =\n",
              "        document.querySelector('#df-4facb898-de02-43bc-8de6-77ac8a4add20 button.colab-df-convert');\n",
              "      buttonEl.style.display =\n",
              "        google.colab.kernel.accessAllowed ? 'block' : 'none';\n",
              "\n",
              "      async function convertToInteractive(key) {\n",
              "        const element = document.querySelector('#df-4facb898-de02-43bc-8de6-77ac8a4add20');\n",
              "        const dataTable =\n",
              "          await google.colab.kernel.invokeFunction('convertToInteractive',\n",
              "                                                    [key], {});\n",
              "        if (!dataTable) return;\n",
              "\n",
              "        const docLinkHtml = 'Like what you see? Visit the ' +\n",
              "          '<a target=\"_blank\" href=https://colab.research.google.com/notebooks/data_table.ipynb>data table notebook</a>'\n",
              "          + ' to learn more about interactive tables.';\n",
              "        element.innerHTML = '';\n",
              "        dataTable['output_type'] = 'display_data';\n",
              "        await google.colab.output.renderOutput(dataTable, element);\n",
              "        const docLink = document.createElement('div');\n",
              "        docLink.innerHTML = docLinkHtml;\n",
              "        element.appendChild(docLink);\n",
              "      }\n",
              "    </script>\n",
              "  </div>\n",
              "\n",
              "\n",
              "    </div>\n",
              "  </div>\n"
            ],
            "application/vnd.google.colaboratory.intrinsic+json": {
              "type": "dataframe",
              "variable_name": "df2",
              "summary": "{\n  \"name\": \"df2\",\n  \"rows\": 0,\n  \"fields\": [\n    {\n      \"column\": \"Pattern\",\n      \"properties\": {\n        \"dtype\": \"number\",\n        \"std\": null,\n        \"min\": null,\n        \"max\": null,\n        \"num_unique_values\": 0,\n        \"samples\": [],\n        \"semantic_type\": \"\",\n        \"description\": \"\"\n      }\n    },\n    {\n      \"column\": \"Tag\",\n      \"properties\": {\n        \"dtype\": \"number\",\n        \"std\": null,\n        \"min\": null,\n        \"max\": null,\n        \"num_unique_values\": 0,\n        \"samples\": [],\n        \"semantic_type\": \"\",\n        \"description\": \"\"\n      }\n    },\n    {\n      \"column\": \"labels\",\n      \"properties\": {\n        \"dtype\": \"number\",\n        \"std\": null,\n        \"min\": null,\n        \"max\": null,\n        \"num_unique_values\": 0,\n        \"samples\": [],\n        \"semantic_type\": \"\",\n        \"description\": \"\"\n      }\n    }\n  ]\n}"
            }
          },
          "metadata": {},
          "execution_count": 37
        }
      ],
      "source": [
        "df2['labels'] = df2['Tag'].map(lambda x: label2id[x.strip()])\n",
        "df2.head()"
      ]
    },
    {
      "cell_type": "markdown",
      "metadata": {
        "id": "KbV3d_hTUujn"
      },
      "source": [
        "<a id=\"5\"></a>\n",
        "## <b>5 <span style='color:#B21010'>||</span> Split the data into train and test</b>"
      ]
    },
    {
      "cell_type": "code",
      "execution_count": null,
      "metadata": {
        "colab": {
          "base_uri": "https://localhost:8080/"
        },
        "id": "ElwMr8QRUujo",
        "outputId": "0c98ccb1-5050-4779-adba-97013021143f"
      },
      "outputs": [
        {
          "output_type": "execute_result",
          "data": {
            "text/plain": [
              "[]"
            ]
          },
          "metadata": {},
          "execution_count": 38
        }
      ],
      "source": [
        "X = list(df2['Pattern'])\n",
        "X[:5]"
      ]
    },
    {
      "cell_type": "code",
      "execution_count": null,
      "metadata": {
        "colab": {
          "base_uri": "https://localhost:8080/"
        },
        "id": "rFBHLA7QUujo",
        "outputId": "766d2c26-ba22-4723-b425-652195fe4c12"
      },
      "outputs": [
        {
          "output_type": "execute_result",
          "data": {
            "text/plain": [
              "[]"
            ]
          },
          "metadata": {},
          "execution_count": 39
        }
      ],
      "source": [
        "y = list(df2['labels'])\n",
        "y[:5]"
      ]
    },
    {
      "cell_type": "code",
      "execution_count": null,
      "metadata": {
        "id": "mc-2gAZN2t9p"
      },
      "outputs": [],
      "source": [
        "import json\n",
        "import numpy as np\n",
        "import pandas as pd\n",
        "import random\n",
        "from matplotlib import pyplot as plt\n",
        "import seaborn as sns\n",
        "from wordcloud import WordCloud, STOPWORDS\n",
        "import missingno as msno\n",
        "\n",
        "from sklearn.feature_extraction.text import CountVectorizer\n",
        "from sklearn.model_selection import train_test_split\n",
        "from sklearn.metrics import accuracy_score, precision_recall_fscore_support\n",
        "\n",
        "# from keras.preprocessing import text\n",
        "import keras\n",
        "from keras.models import Sequential\n",
        "from keras.layers import Dense, Embedding, LSTM, Dropout\n",
        "from keras.callbacks import ReduceLROnPlateau\n",
        "\n",
        "from tensorflow.keras.preprocessing.sequence import pad_sequences\n",
        "import nltk\n",
        "from nltk import word_tokenize\n",
        "from nltk.stem import PorterStemmer\n",
        "\n",
        "import torch\n",
        "from torch.utils.data import Dataset\n",
        "\n",
        "from transformers import AutoTokenizer, TFAutoModelForSequenceClassification\n",
        "from transformers import pipeline\n",
        "from transformers import DistilBertTokenizerFast\n",
        "from transformers import BertForSequenceClassification, BertTokenizerFast\n",
        "#"
      ]
    },
    {
      "cell_type": "markdown",
      "metadata": {
        "id": "8weozZe5Uujo"
      },
      "source": [
        "<a id=\"6\"></a>\n",
        "## <b>6 <span style='color:#B21010'>||</span> Load BERT Pretrained model and Tokenizer</b>"
      ]
    },
    {
      "cell_type": "code",
      "execution_count": null,
      "metadata": {
        "colab": {
          "base_uri": "https://localhost:8080/"
        },
        "id": "nJbSk6Zdt5pc",
        "outputId": "4f5dffd2-39b6-41d6-8cca-8c6448d575bd"
      },
      "outputs": [
        {
          "output_type": "stream",
          "name": "stdout",
          "text": [
            "Error decoding JSON file: Expecting value: line 1 column 1 (char 0)\n",
            "Error: 'intents' key not found in the JSON file: /content/drive/MyDrive/module-6/dialogs.txt\n"
          ]
        }
      ],
      "source": [
        "import json\n",
        "import pandas as pd\n",
        "# ... (other imports)\n",
        "\n",
        "def load_json_file(filename):\n",
        "    \"\"\"Loads a JSON file and handles potential decoding errors.\n",
        "\n",
        "    Args:\n",
        "        filename (str): Path to the JSON file.\n",
        "\n",
        "    Returns:\n",
        "        dict: Loaded JSON data, or an empty dictionary if decoding fails.\n",
        "    \"\"\"\n",
        "    try:\n",
        "        with open(filename, 'r', encoding='utf-8') as f:  # Add encoding='utf-8'\n",
        "            data = json.load(f)\n",
        "        return data\n",
        "    except json.JSONDecodeError as e:\n",
        "        print(f\"Error decoding JSON file: {e}\")\n",
        "        # You can handle the error by returning an empty dictionary or raising an exception\n",
        "        return {}  # Returning an empty dictionary to avoid halting the execution\n",
        "\n",
        "def create_df():\n",
        "    df = pd.DataFrame({\n",
        "        'Pattern' : [],\n",
        "        'Tag' : []\n",
        "    })\n",
        "    return df\n",
        "\n",
        "filename = '/content/drive/MyDrive/module-6/dialogs.txt'  # Update if your filename is different\n",
        "\n",
        "df = create_df()\n",
        "\n",
        "# Load data and populate DataFrame\n",
        "intents = load_json_file(filename)\n",
        "\n",
        "# Check if 'intents' key exists before accessing it\n",
        "if 'intents' in intents:\n",
        "    for intent in intents['intents']:\n",
        "        for pattern in intent['patterns']:\n",
        "            df.loc[len(df)] = [pattern, intent['tag']]\n",
        "else:\n",
        "    print(f\"Error: 'intents' key not found in the JSON file: {filename}\")"
      ]
    },
    {
      "cell_type": "markdown",
      "metadata": {
        "id": "KFWX5KLdUujp"
      },
      "source": [
        "<a id=\"7\"></a>\n",
        "## <b>7 <span style='color:#B21010'>||</span> Transform the data into numerical format</b>"
      ]
    },
    {
      "cell_type": "code",
      "execution_count": null,
      "metadata": {
        "colab": {
          "base_uri": "https://localhost:8080/"
        },
        "id": "yP0pR2dWu_FP",
        "outputId": "cca627c2-886c-4062-cfc1-9ec21266bde1"
      },
      "outputs": [
        {
          "output_type": "stream",
          "name": "stdout",
          "text": [
            "Error decoding JSON file: Expecting value: line 1 column 1 (char 0)\n",
            "Error: 'intents' key not found in the JSON file: /content/drive/MyDrive/module-6/dialogs.txt\n"
          ]
        }
      ],
      "source": [
        "import json\n",
        "import pandas as pd\n",
        "from sklearn.model_selection import train_test_split\n",
        "from transformers import BertTokenizerFast\n",
        "\n",
        "# ... (other imports)\n",
        "\n",
        "# ... (load_json_file, create_df)\n",
        "\n",
        "filename = '/content/drive/MyDrive/module-6/dialogs.txt'  # Update if your filename is different\n",
        "\n",
        "df = create_df()\n",
        "\n",
        "# Load data and populate DataFrame\n",
        "intents = load_json_file(filename)\n",
        "\n",
        "# Check if 'intents' key exists before accessing it\n",
        "if 'intents' in intents:\n",
        "    for intent in intents['intents']:\n",
        "        for pattern in intent['patterns']:\n",
        "            df.loc[len(df)] = [pattern, intent['tag']]\n",
        "else:\n",
        "    print(f\"Error: 'intents' key not found in the JSON file: {filename}\")\n",
        "\n",
        "\n",
        "# ... (other data"
      ]
    },
    {
      "cell_type": "markdown",
      "metadata": {
        "id": "nNzba32HUujq"
      },
      "source": [
        "<a id=\"8\"></a>\n",
        "## <b>8 <span style='color:#B21010'>||</span> Build Data Loader</b>\n"
      ]
    },
    {
      "cell_type": "code",
      "execution_count": null,
      "metadata": {
        "id": "cocAhOdoUujq"
      },
      "outputs": [],
      "source": [
        "class DataLoader(Dataset):\n",
        "\n",
        "    def __init__(self, encodings, labels):\n",
        "\n",
        "        self.encodings = encodings\n",
        "        self.labels = labels\n",
        "\n",
        "    def __getitem__(self, idx):\n",
        "\n",
        "        item = {key: torch.tensor(val[idx]) for key, val in self.encodings.items()}\n",
        "        item['labels'] = torch.tensor(self.labels[idx])\n",
        "        return item\n",
        "\n",
        "    def __len__(self):\n",
        "\n",
        "        return len(self.labels)"
      ]
    },
    {
      "cell_type": "code",
      "execution_count": null,
      "metadata": {
        "colab": {
          "base_uri": "https://localhost:8080/"
        },
        "id": "eT3bouhqverd",
        "outputId": "3f5f7d89-4d77-498c-c86d-65a5fdb1a3c7"
      },
      "outputs": [
        {
          "output_type": "stream",
          "name": "stdout",
          "text": [
            "Error decoding JSON file: Expecting value: line 1 column 1 (char 0)\n"
          ]
        }
      ],
      "source": [
        "import json\n",
        "import pandas as pd\n",
        "from sklearn.model_selection import train_test_split\n",
        "from transformers import BertTokenizerFast\n",
        "\n",
        "# ... (other imports)\n",
        "\n",
        "# ... (load_json_file, create_df)\n",
        "\n",
        "filename = '/content/drive/MyDrive/module-6/dialogs.txt'  # Update if your filename is different\n",
        "\n",
        "df = create_df()\n",
        "\n",
        "# Load data and populate DataFrame\n",
        "intents = load_json_file(filename)\n",
        "\n",
        "# Check if 'intents' key exists before accessing it\n",
        "if 'intents' in intents:\n",
        "    for intent in intents['intents']:\n",
        "        for pattern in intent['patterns']:\n",
        "            df.loc"
      ]
    },
    {
      "cell_type": "markdown",
      "metadata": {
        "id": "ZOplTFwiUujq"
      },
      "source": [
        "<a id=\"9\"></a>\n",
        "## <b>9 <span style='color:#B21010'>||</span> Define Evaluation Metrcies</b>\n"
      ]
    },
    {
      "cell_type": "code",
      "execution_count": null,
      "metadata": {
        "id": "7kGlTaWzUujq"
      },
      "outputs": [],
      "source": [
        "def compute_metrics(pred):\n",
        "\n",
        "    labels = pred.label_ids\n",
        "    preds = pred.predictions.argmax(-1)\n",
        "    precision, recall, f1, _ = precision_recall_fscore_support(labels, preds, average='macro')\n",
        "    acc = accuracy_score(labels, preds)\n",
        "\n",
        "    return {\n",
        "        'Accuracy': acc,\n",
        "        'F1': f1,\n",
        "        'Precision': precision,\n",
        "        'Recall': recall\n",
        "    }"
      ]
    },
    {
      "cell_type": "markdown",
      "metadata": {
        "id": "P83-hFvAUujr"
      },
      "source": [
        "<a id=\"10\"></a>\n",
        "## <b>10 <span style='color:#B21010'>||</span> Define Training Arguments</b>\n"
      ]
    },
    {
      "cell_type": "code",
      "execution_count": null,
      "metadata": {
        "colab": {
          "base_uri": "https://localhost:8080/"
        },
        "id": "_xp6usNMUujr",
        "outputId": "90009435-bc9f-4fb4-9052-aa59d9ffa9dc"
      },
      "outputs": [
        {
          "name": "stderr",
          "output_type": "stream",
          "text": [
            "/usr/local/lib/python3.11/dist-packages/transformers/training_args.py:1575: FutureWarning: `evaluation_strategy` is deprecated and will be removed in version 4.46 of 🤗 Transformers. Use `eval_strategy` instead\n",
            "  warnings.warn(\n"
          ]
        }
      ],
      "source": [
        "training_args = TrainingArguments(\n",
        "    output_dir='./output',\n",
        "    do_train=True,\n",
        "    do_eval=True,\n",
        "    num_train_epochs=100,\n",
        "    per_device_train_batch_size=32,\n",
        "    per_device_eval_batch_size=16,\n",
        "    warmup_steps=100,\n",
        "    weight_decay=0.05,\n",
        "    logging_strategy='steps',\n",
        "    logging_dir='./multi-class-logs',\n",
        "    logging_steps=50,\n",
        "    evaluation_strategy=\"steps\",\n",
        "    eval_steps=50,\n",
        "    save_strategy=\"steps\",\n",
        "    load_best_model_at_end=True\n",
        ")"
      ]
    },
    {
      "cell_type": "markdown",
      "metadata": {
        "id": "AGPZ5GcgUujr"
      },
      "source": [
        "<a id=\"11\"></a>\n",
        "## <b>11 <span style='color:#B21010'>||</span> Train the model</b>\n"
      ]
    },
    {
      "cell_type": "code",
      "execution_count": null,
      "metadata": {
        "id": "CXIqcLe5w_qS"
      },
      "outputs": [],
      "source": [
        "import json\n",
        "import pandas as pd\n",
        "# ... (other imports)\n",
        "\n",
        "def load_json_file(filename):\n",
        "    \"\"\"Loads a JSON file and handles potential decoding errors.\n",
        "\n",
        "    Args:\n",
        "        filename (str): Path to the JSON file.\n",
        "\n",
        "    Returns:\n",
        "        dict: Loaded JSON data, or an empty dictionary if decoding fails.\n",
        "    \"\"\"\n",
        "    try:\n",
        "        with open(filename, 'r', encoding='utf-8') as f:  # Add encoding='utf-8'\n",
        "            data = json.load(f)\n",
        "        return data\n",
        "    except json.JSONDecodeError as e:\n",
        "        print(f\"Error decoding JSON file: {e}\")\n",
        "        # You can handle the error by returning an empty dictionary or raising an exception\n",
        "        return {}  # Returning an empty dictionary to avoid halting the execution\n",
        "\n",
        "def create_df():\n",
        "    df = pd.DataFrame({\n",
        "        'Pattern' : [],\n",
        "        'Tag' : []\n",
        "    })\n",
        "    return df\n",
        "\n",
        "filename = '/content/drive/MyDrive/module-6/dialogs.txt'  # Update if your filename is"
      ]
    },
    {
      "cell_type": "markdown",
      "metadata": {
        "id": "6-TO5TLJUujs"
      },
      "source": [
        "<a id=\"12\"></a>\n",
        "## <b>12 <span style='color:#B21010'>||</span> Evaluate the model</b>\n"
      ]
    },
    {
      "cell_type": "code",
      "execution_count": null,
      "metadata": {
        "id": "k0I3NgUrxOmq"
      },
      "outputs": [],
      "source": [
        "import json\n",
        "import pandas as pd\n",
        "# ... (other imports)\n",
        "\n",
        "def load_json_file(filename):\n",
        "    \"\"\"Loads a JSON file and handles potential decoding errors.\n",
        "\n",
        "    Args:\n",
        "        filename (str): Path to the JSON file.\n",
        "\n",
        "    Returns:\n",
        "        dict: Loaded JSON data, or an empty dictionary if decoding fails.\n",
        "    \"\"\"\n",
        "    try:\n",
        "        with open(filename, 'r', encoding='utf-8') as f:  # Add encoding='utf-8'\n",
        "            data = json.load(f)\n",
        "        return data\n",
        "    except json.JSONDecodeError as e:\n",
        "        print(f\"Error decoding JSON file: {e}\")\n",
        "        # You can handle the error by returning an empty dictionary or raising an exception\n",
        "        return {}  # Returning an empty dictionary to avoid halting the execution\n",
        "\n",
        "def create_df():\n",
        "    df = pd.DataFrame({\n",
        "        'Pattern' : [],\n",
        "        'Tag' : []\n",
        "    })\n",
        "    return df\n",
        "\n",
        "filename = '/content/drive/MyDrive/module-6/dialogs.txt'  # Update if your filename is"
      ]
    },
    {
      "cell_type": "code",
      "execution_count": null,
      "metadata": {
        "id": "suH_klJbUujs"
      },
      "outputs": [],
      "source": [
        "def predict(text):\n",
        "\n",
        "    inputs = tokenizer(text, padding=True, truncation=True, max_length=512, return_tensors=\"pt\").to(\"cuda\")\n",
        "    outputs = model(**inputs)\n",
        "\n",
        "    probs = outputs[0].softmax(1)\n",
        "    pred_label_idx = probs.argmax()\n",
        "    pred_label = model.config.id2label[pred_label_idx.item()]\n",
        "\n",
        "    return probs, pred_label_idx, pred_label"
      ]
    },
    {
      "cell_type": "code",
      "execution_count": null,
      "metadata": {
        "id": "FsAm1TSWubSa"
      },
      "outputs": [],
      "source": [
        "def predict(text):\n",
        "\n",
        "    inputs = tokenizer(text, padding=True, truncation=True, max_length=512, return_tensors=\"pt\")\n",
        "    outputs = model(**inputs)\n",
        "\n",
        "    probs = outputs[0].softmax(1)\n",
        "    pred_label_idx = probs.argmax()\n",
        "    pred_label = model.config.id2label[pred_label_idx.item()]\n",
        "\n",
        "    return probs, pred_label_idx, pred_label"
      ]
    },
    {
      "cell_type": "code",
      "execution_count": null,
      "metadata": {
        "id": "RLzAAAX6xa3E"
      },
      "outputs": [],
      "source": [
        "def predict(text):\n",
        "    inputs = tokenizer(text, padding=True, truncation=True, max_length=512, return_tensors=\"pt\")\n",
        "    # Ensure model is on the correct device if using GPU\n",
        "    inputs = {k: v.to(model.device) for k, v in inputs.items()}\n",
        "    outputs = model(**inputs)\n",
        "\n",
        "    # Check if the output tensor is empty before applying argmax\n",
        "    if outputs[0].numel() == 0:\n",
        "        print(\"Warning: Model produced an empty output tensor.\")\n",
        "        return None, None, None  # Or handle the empty output in a suitable way\n",
        "\n",
        "    probs = outputs[0].softmax(1)\n",
        "    pred_label_idx = probs.argmax()\n",
        "    pred_label = model.config.id2label[pred_label_idx.item()]\n",
        "\n",
        "    return probs, pred_label_idx, pred_label"
      ]
    },
    {
      "cell_type": "markdown",
      "metadata": {
        "id": "4FSYG9bqUujs"
      },
      "source": [
        "<a id=\"13\"></a>\n",
        "## <b>13 <span style='color:#B21010'>||</span> Save the model</b>\n"
      ]
    },
    {
      "cell_type": "code",
      "execution_count": null,
      "metadata": {
        "id": "bnNeOGERyGYg"
      },
      "outputs": [],
      "source": [
        "import json\n",
        "import pandas as pd\n",
        "# ... (other imports)\n",
        "\n",
        "def load_json_file(filename):\n",
        "    \"\"\"Loads a JSON file and handles potential decoding errors.\n",
        "\n",
        "    Args:\n",
        "        filename (str): Path to the JSON file.\n",
        "\n",
        "    Returns:\n",
        "        dict: Loaded JSON data, or an empty dictionary if decoding fails.\n",
        "    \"\"\"\n",
        "    try:\n",
        "        with open(filename, 'r', encoding='utf-8') as f:  # Add encoding='utf-8'\n",
        "            data = json.load(f)\n",
        "        return data\n",
        "    except json.JSONDecodeError as e:\n",
        "        print(f\"Error decoding JSON file: {e}\")\n",
        "        # You can handle the error by returning an empty dictionary or raising an exception\n",
        "        return {}  # Returning an empty dictionary to avoid halting the execution\n",
        "\n",
        "def create_df():\n",
        "    df = pd.DataFrame({\n",
        "        'Pattern' : [],\n",
        "        'Tag' : []\n",
        "    })\n",
        "    return df\n",
        "\n"
      ]
    },
    {
      "cell_type": "code",
      "execution_count": null,
      "metadata": {
        "colab": {
          "base_uri": "https://localhost:8080/"
        },
        "id": "ZlHhlpLXUujt",
        "outputId": "3ffaf7ff-b396-41bf-bee4-7497fe8db30e"
      },
      "outputs": [
        {
          "output_type": "stream",
          "name": "stdout",
          "text": [
            "Requirement already satisfied: xformers in /usr/local/lib/python3.11/dist-packages (0.0.30)\n",
            "Requirement already satisfied: numpy in /usr/local/lib/python3.11/dist-packages (from xformers) (2.0.2)\n",
            "Requirement already satisfied: torch==2.7.0 in /usr/local/lib/python3.11/dist-packages (from xformers) (2.7.0)\n",
            "Requirement already satisfied: filelock in /usr/local/lib/python3.11/dist-packages (from torch==2.7.0->xformers) (3.18.0)\n",
            "Requirement already satisfied: typing-extensions>=4.10.0 in /usr/local/lib/python3.11/dist-packages (from torch==2.7.0->xformers) (4.13.2)\n",
            "Requirement already satisfied: sympy>=1.13.3 in /usr/local/lib/python3.11/dist-packages (from torch==2.7.0->xformers) (1.14.0)\n",
            "Requirement already satisfied: networkx in /usr/local/lib/python3.11/dist-packages (from torch==2.7.0->xformers) (3.4.2)\n",
            "Requirement already satisfied: jinja2 in /usr/local/lib/python3.11/dist-packages (from torch==2.7.0->xformers) (3.1.6)\n",
            "Requirement already satisfied: fsspec in /usr/local/lib/python3.11/dist-packages (from torch==2.7.0->xformers) (2025.3.2)\n",
            "Requirement already satisfied: nvidia-cuda-nvrtc-cu12==12.6.77 in /usr/local/lib/python3.11/dist-packages (from torch==2.7.0->xformers) (12.6.77)\n",
            "Requirement already satisfied: nvidia-cuda-runtime-cu12==12.6.77 in /usr/local/lib/python3.11/dist-packages (from torch==2.7.0->xformers) (12.6.77)\n",
            "Requirement already satisfied: nvidia-cuda-cupti-cu12==12.6.80 in /usr/local/lib/python3.11/dist-packages (from torch==2.7.0->xformers) (12.6.80)\n",
            "Requirement already satisfied: nvidia-cudnn-cu12==9.5.1.17 in /usr/local/lib/python3.11/dist-packages (from torch==2.7.0->xformers) (9.5.1.17)\n",
            "Requirement already satisfied: nvidia-cublas-cu12==12.6.4.1 in /usr/local/lib/python3.11/dist-packages (from torch==2.7.0->xformers) (12.6.4.1)\n",
            "Requirement already satisfied: nvidia-cufft-cu12==11.3.0.4 in /usr/local/lib/python3.11/dist-packages (from torch==2.7.0->xformers) (11.3.0.4)\n",
            "Requirement already satisfied: nvidia-curand-cu12==10.3.7.77 in /usr/local/lib/python3.11/dist-packages (from torch==2.7.0->xformers) (10.3.7.77)\n",
            "Requirement already satisfied: nvidia-cusolver-cu12==11.7.1.2 in /usr/local/lib/python3.11/dist-packages (from torch==2.7.0->xformers) (11.7.1.2)\n",
            "Requirement already satisfied: nvidia-cusparse-cu12==12.5.4.2 in /usr/local/lib/python3.11/dist-packages (from torch==2.7.0->xformers) (12.5.4.2)\n",
            "Requirement already satisfied: nvidia-cusparselt-cu12==0.6.3 in /usr/local/lib/python3.11/dist-packages (from torch==2.7.0->xformers) (0.6.3)\n",
            "Requirement already satisfied: nvidia-nccl-cu12==2.26.2 in /usr/local/lib/python3.11/dist-packages (from torch==2.7.0->xformers) (2.26.2)\n",
            "Requirement already satisfied: nvidia-nvtx-cu12==12.6.77 in /usr/local/lib/python3.11/dist-packages (from torch==2.7.0->xformers) (12.6.77)\n",
            "Requirement already satisfied: nvidia-nvjitlink-cu12==12.6.85 in /usr/local/lib/python3.11/dist-packages (from torch==2.7.0->xformers) (12.6.85)\n",
            "Requirement already satisfied: nvidia-cufile-cu12==1.11.1.6 in /usr/local/lib/python3.11/dist-packages (from torch==2.7.0->xformers) (1.11.1.6)\n",
            "Requirement already satisfied: triton==3.3.0 in /usr/local/lib/python3.11/dist-packages (from torch==2.7.0->xformers) (3.3.0)\n",
            "Requirement already satisfied: setuptools>=40.8.0 in /usr/local/lib/python3.11/dist-packages (from triton==3.3.0->torch==2.7.0->xformers) (75.2.0)\n",
            "Requirement already satisfied: mpmath<1.4,>=1.1.0 in /usr/local/lib/python3.11/dist-packages (from sympy>=1.13.3->torch==2.7.0->xformers) (1.3.0)\n",
            "Requirement already satisfied: MarkupSafe>=2.0 in /usr/local/lib/python3.11/dist-packages (from jinja2->torch==2.7.0->xformers) (3.0.2)\n"
          ]
        }
      ],
      "source": [
        "!pip install xformers"
      ]
    },
    {
      "cell_type": "markdown",
      "metadata": {
        "id": "Vqm37U-2Uujt"
      },
      "source": [
        "<a id=\"14\"></a>\n",
        "## <b>14 <span style='color:#B21010'>||</span> Load the model</b>\n"
      ]
    },
    {
      "cell_type": "code",
      "execution_count": null,
      "metadata": {
        "colab": {
          "base_uri": "https://localhost:8080/"
        },
        "id": "Aa3aLWJT7C9X",
        "outputId": "cd2c1c29-42e1-4d14-8779-d322a7043b1c"
      },
      "outputs": [
        {
          "output_type": "stream",
          "name": "stdout",
          "text": [
            "Requirement already satisfied: torch in /usr/local/lib/python3.11/dist-packages (2.7.0)\n",
            "Requirement already satisfied: torchvision in /usr/local/lib/python3.11/dist-packages (0.22.0)\n",
            "Requirement already satisfied: transformers in /usr/local/lib/python3.11/dist-packages (4.51.3)\n",
            "Requirement already satisfied: filelock in /usr/local/lib/python3.11/dist-packages (from torch) (3.18.0)\n",
            "Requirement already satisfied: typing-extensions>=4.10.0 in /usr/local/lib/python3.11/dist-packages (from torch) (4.13.2)\n",
            "Requirement already satisfied: sympy>=1.13.3 in /usr/local/lib/python3.11/dist-packages (from torch) (1.14.0)\n",
            "Requirement already satisfied: networkx in /usr/local/lib/python3.11/dist-packages (from torch) (3.4.2)\n",
            "Requirement already satisfied: jinja2 in /usr/local/lib/python3.11/dist-packages (from torch) (3.1.6)\n",
            "Requirement already satisfied: fsspec in /usr/local/lib/python3.11/dist-packages (from torch) (2025.3.2)\n",
            "Requirement already satisfied: nvidia-cuda-nvrtc-cu12==12.6.77 in /usr/local/lib/python3.11/dist-packages (from torch) (12.6.77)\n",
            "Requirement already satisfied: nvidia-cuda-runtime-cu12==12.6.77 in /usr/local/lib/python3.11/dist-packages (from torch) (12.6.77)\n",
            "Requirement already satisfied: nvidia-cuda-cupti-cu12==12.6.80 in /usr/local/lib/python3.11/dist-packages (from torch) (12.6.80)\n",
            "Requirement already satisfied: nvidia-cudnn-cu12==9.5.1.17 in /usr/local/lib/python3.11/dist-packages (from torch) (9.5.1.17)\n",
            "Requirement already satisfied: nvidia-cublas-cu12==12.6.4.1 in /usr/local/lib/python3.11/dist-packages (from torch) (12.6.4.1)\n",
            "Requirement already satisfied: nvidia-cufft-cu12==11.3.0.4 in /usr/local/lib/python3.11/dist-packages (from torch) (11.3.0.4)\n",
            "Requirement already satisfied: nvidia-curand-cu12==10.3.7.77 in /usr/local/lib/python3.11/dist-packages (from torch) (10.3.7.77)\n",
            "Requirement already satisfied: nvidia-cusolver-cu12==11.7.1.2 in /usr/local/lib/python3.11/dist-packages (from torch) (11.7.1.2)\n",
            "Requirement already satisfied: nvidia-cusparse-cu12==12.5.4.2 in /usr/local/lib/python3.11/dist-packages (from torch) (12.5.4.2)\n",
            "Requirement already satisfied: nvidia-cusparselt-cu12==0.6.3 in /usr/local/lib/python3.11/dist-packages (from torch) (0.6.3)\n",
            "Requirement already satisfied: nvidia-nccl-cu12==2.26.2 in /usr/local/lib/python3.11/dist-packages (from torch) (2.26.2)\n",
            "Requirement already satisfied: nvidia-nvtx-cu12==12.6.77 in /usr/local/lib/python3.11/dist-packages (from torch) (12.6.77)\n",
            "Requirement already satisfied: nvidia-nvjitlink-cu12==12.6.85 in /usr/local/lib/python3.11/dist-packages (from torch) (12.6.85)\n",
            "Requirement already satisfied: nvidia-cufile-cu12==1.11.1.6 in /usr/local/lib/python3.11/dist-packages (from torch) (1.11.1.6)\n",
            "Requirement already satisfied: triton==3.3.0 in /usr/local/lib/python3.11/dist-packages (from torch) (3.3.0)\n",
            "Requirement already satisfied: setuptools>=40.8.0 in /usr/local/lib/python3.11/dist-packages (from triton==3.3.0->torch) (75.2.0)\n",
            "Requirement already satisfied: numpy in /usr/local/lib/python3.11/dist-packages (from torchvision) (2.0.2)\n",
            "Requirement already satisfied: pillow!=8.3.*,>=5.3.0 in /usr/local/lib/python3.11/dist-packages (from torchvision) (11.2.1)\n",
            "Requirement already satisfied: huggingface-hub<1.0,>=0.30.0 in /usr/local/lib/python3.11/dist-packages (from transformers) (0.30.2)\n",
            "Requirement already satisfied: packaging>=20.0 in /usr/local/lib/python3.11/dist-packages (from transformers) (24.2)\n",
            "Requirement already satisfied: pyyaml>=5.1 in /usr/local/lib/python3.11/dist-packages (from transformers) (6.0.2)\n",
            "Requirement already satisfied: regex!=2019.12.17 in /usr/local/lib/python3.11/dist-packages (from transformers) (2024.11.6)\n",
            "Requirement already satisfied: requests in /usr/local/lib/python3.11/dist-packages (from transformers) (2.32.3)\n",
            "Requirement already satisfied: tokenizers<0.22,>=0.21 in /usr/local/lib/python3.11/dist-packages (from transformers) (0.21.1)\n",
            "Requirement already satisfied: safetensors>=0.4.3 in /usr/local/lib/python3.11/dist-packages (from transformers) (0.5.3)\n",
            "Requirement already satisfied: tqdm>=4.27 in /usr/local/lib/python3.11/dist-packages (from transformers) (4.67.1)\n",
            "Requirement already satisfied: mpmath<1.4,>=1.1.0 in /usr/local/lib/python3.11/dist-packages (from sympy>=1.13.3->torch) (1.3.0)\n",
            "Requirement already satisfied: MarkupSafe>=2.0 in /usr/local/lib/python3.11/dist-packages (from jinja2->torch) (3.0.2)\n",
            "Requirement already satisfied: charset-normalizer<4,>=2 in /usr/local/lib/python3.11/dist-packages (from requests->transformers) (3.4.1)\n",
            "Requirement already satisfied: idna<4,>=2.5 in /usr/local/lib/python3.11/dist-packages (from requests->transformers) (3.10)\n",
            "Requirement already satisfied: urllib3<3,>=1.21.1 in /usr/local/lib/python3.11/dist-packages (from requests->transformers) (2.4.0)\n",
            "Requirement already satisfied: certifi>=2017.4.17 in /usr/local/lib/python3.11/dist-packages (from requests->transformers) (2025.4.26)\n"
          ]
        }
      ],
      "source": [
        "!pip install --upgrade torch torchvision transformers\n"
      ]
    },
    {
      "cell_type": "code",
      "execution_count": null,
      "metadata": {
        "id": "mF4rt4D37FQ7"
      },
      "outputs": [],
      "source": [
        "import torch\n",
        "import torchvision\n",
        "from transformers import pipeline, BertForSequenceClassification, BertTokenizerFast\n"
      ]
    },
    {
      "cell_type": "code",
      "execution_count": null,
      "metadata": {
        "colab": {
          "base_uri": "https://localhost:8080/",
          "height": 416,
          "referenced_widgets": [
            "6864ed9cee6e4679ad4d598e1897c4af",
            "68da13a53bd44461890fa104471c5d2c",
            "8ee65f47d91e4fc3ad02dd86ba6dc987",
            "42b72496d2e3499d80892e78724b77a9",
            "4b6b0506809d4b36922b75dfd2d8f68e",
            "0a43918e79d84f37ad6c553f08d37526",
            "d8bbe8d5ec794689a859e8bef44a5655",
            "d6895163197e4acb94959b82a431b373",
            "b4e0c58f94d344b3a1d6cc976303511a",
            "283d19399e834c7bbc2e1edb422aad69",
            "c55104fb0cf64411a65201b860243b53",
            "d59b011f514149a49a170f5ff0c594ee",
            "3ee99038f9164394b15eb64c88de398b",
            "a9481ee8352d4eab92fcd544a3cf190c",
            "ee56d7bdcdd74ebcacebb5f1d4f3416f",
            "299810713e4a47f1b23603cf4e5e75f2",
            "022ae3829a5848f493de7966bf792964",
            "a23794112b6941e29c0668e1517c2e50",
            "caeaecb16cac458080ab4b092ccc6a6f",
            "913945e1cc6c4056a8b5572fc08a97cd",
            "dbc9bf023c4d48f095b8b69bdc82c651",
            "fe0cbc51b8dd4df6aab7bc3d34ab3321",
            "016c4b4eb11c4bd993cae836a117aead",
            "0f155782cbee4f8dac54bf3675df1118",
            "55c2dba79b714c2f92556091dd641ecd",
            "386dd23f0e614eeda5822e8cacba677e",
            "fcdb83177ebc47418dff96d4d816603d",
            "cf4be4f3790749a696c15d9795346781",
            "add721dab61f406f9f3c22a22abd33dc",
            "69e432a5362c4043b1b951c23ae4a8d9",
            "592dff51d19d4cc58a79a82fb860d32f",
            "a46477827c57412b88eb9fdc9950e613",
            "5a15902a01474dd483bd3327f5bc720c",
            "213dee41190a4b399ca775bae48bd718",
            "659181a3c4554d5cabccd38155e02355",
            "360e0386eab34c5489e1bf52da098d75",
            "8c88777a839744c1a2e77ad30311fddf",
            "064c4afe1c7a410ca9e410e8f9c04b36",
            "ad289db37ee240cc9e4bb26ea0f37c5e",
            "3c9b722f5e444653954b4128f164e0af",
            "1dd7dcab4ebc458fa7cca60a87c0d07e",
            "e4ec5b67c5aa47269cb1519c8c1c2e60",
            "f0e4c34876464710bd046ee137e59c51",
            "972c2775141944e4a363bfe42007152a",
            "36df6b1ab1424b029765f4b192bb4492",
            "3b3c328725f84cafbf97f5143d7ce16a",
            "1a73704f28f44cf88ad7ccb7520c89f3",
            "39b5693cd9f24b6b9bb8947e3c57ad98",
            "cbd4085ce4f44664bbf12a284e072282",
            "eb3f32be69a648ca85155bc727f8d1dd",
            "a2dede3ecf2f4c2bbead9f805d2c5063",
            "c1201c82bff94c98811771d8f23364a3",
            "a6fa8f0ae16c4c9db7b73b568e02a745",
            "7c9a4e82202b42eea234ea779b4abe59",
            "aba2fd5c08d4416e9461b7a1e6501a58"
          ]
        },
        "id": "11yrw3Jmb0WX",
        "outputId": "79061be8-699a-4b5e-a2ea-56866330225d"
      },
      "outputs": [
        {
          "output_type": "stream",
          "name": "stdout",
          "text": [
            "Error decoding JSON file: Expecting value: line 1 column 1 (char 0)\n",
            "Error: 'intents' key not found in the JSON file: /content/drive/MyDrive/module-6/dialogs.txt\n"
          ]
        },
        {
          "output_type": "stream",
          "name": "stderr",
          "text": [
            "/usr/local/lib/python3.11/dist-packages/huggingface_hub/utils/_auth.py:94: UserWarning: \n",
            "The secret `HF_TOKEN` does not exist in your Colab secrets.\n",
            "To authenticate with the Hugging Face Hub, create a token in your settings tab (https://huggingface.co/settings/tokens), set it as secret in your Google Colab and restart your session.\n",
            "You will be able to reuse this secret in all of your notebooks.\n",
            "Please note that authentication is recommended but still optional to access public models or datasets.\n",
            "  warnings.warn(\n"
          ]
        },
        {
          "output_type": "display_data",
          "data": {
            "text/plain": [
              "tokenizer_config.json:   0%|          | 0.00/48.0 [00:00<?, ?B/s]"
            ],
            "application/vnd.jupyter.widget-view+json": {
              "version_major": 2,
              "version_minor": 0,
              "model_id": "6864ed9cee6e4679ad4d598e1897c4af"
            }
          },
          "metadata": {}
        },
        {
          "output_type": "display_data",
          "data": {
            "text/plain": [
              "vocab.txt:   0%|          | 0.00/232k [00:00<?, ?B/s]"
            ],
            "application/vnd.jupyter.widget-view+json": {
              "version_major": 2,
              "version_minor": 0,
              "model_id": "d59b011f514149a49a170f5ff0c594ee"
            }
          },
          "metadata": {}
        },
        {
          "output_type": "display_data",
          "data": {
            "text/plain": [
              "tokenizer.json:   0%|          | 0.00/466k [00:00<?, ?B/s]"
            ],
            "application/vnd.jupyter.widget-view+json": {
              "version_major": 2,
              "version_minor": 0,
              "model_id": "016c4b4eb11c4bd993cae836a117aead"
            }
          },
          "metadata": {}
        },
        {
          "output_type": "display_data",
          "data": {
            "text/plain": [
              "config.json:   0%|          | 0.00/570 [00:00<?, ?B/s]"
            ],
            "application/vnd.jupyter.widget-view+json": {
              "version_major": 2,
              "version_minor": 0,
              "model_id": "213dee41190a4b399ca775bae48bd718"
            }
          },
          "metadata": {}
        },
        {
          "output_type": "stream",
          "name": "stderr",
          "text": [
            "Xet Storage is enabled for this repo, but the 'hf_xet' package is not installed. Falling back to regular HTTP download. For better performance, install the package with: `pip install huggingface_hub[hf_xet]` or `pip install hf_xet`\n",
            "WARNING:huggingface_hub.file_download:Xet Storage is enabled for this repo, but the 'hf_xet' package is not installed. Falling back to regular HTTP download. For better performance, install the package with: `pip install huggingface_hub[hf_xet]` or `pip install hf_xet`\n"
          ]
        },
        {
          "output_type": "display_data",
          "data": {
            "text/plain": [
              "model.safetensors:   0%|          | 0.00/440M [00:00<?, ?B/s]"
            ],
            "application/vnd.jupyter.widget-view+json": {
              "version_major": 2,
              "version_minor": 0,
              "model_id": "36df6b1ab1424b029765f4b192bb4492"
            }
          },
          "metadata": {}
        },
        {
          "output_type": "stream",
          "name": "stderr",
          "text": [
            "Some weights of BertForSequenceClassification were not initialized from the model checkpoint at bert-base-uncased and are newly initialized: ['classifier.bias', 'classifier.weight']\n",
            "You should probably TRAIN this model on a down-stream task to be able to use it for predictions and inference.\n"
          ]
        }
      ],
      "source": [
        "import json\n",
        "import pandas as pd\n",
        "from sklearn.model_selection import train_test_split\n",
        "from transformers import BertTokenizerFast, BertForSequenceClassification, TrainingArguments, Trainer\n",
        "\n",
        "# ... (other imports and functions)\n",
        "\n",
        "# ... (load_json_file, create_df)\n",
        "\n",
        "filename = '/content/drive/MyDrive/module-6/dialogs.txt'  # Update if your filename is different\n",
        "\n",
        "df = create_df()\n",
        "\n",
        "# Load data and populate DataFrame\n",
        "intents = load_json_file(filename)\n",
        "\n",
        "# Check if 'intents' key exists before accessing it\n",
        "if 'intents' in intents:\n",
        "    for intent in intents['intents']:\n",
        "        for pattern in intent['patterns']:\n",
        "            df.loc[len(df)] = [pattern, intent['tag']]\n",
        "else:\n",
        "    print(f\"Error: 'intents' key not found in the JSON file: {filename}\")\n",
        "\n",
        "# ... (other data preprocessing steps)\n",
        "\n",
        "# Load pre-trained tokenizer and model\n",
        "tokenizer = BertTokenizerFast.from_pretrained('bert-base-uncased')\n",
        "model = BertForSequenceClassification.from_pretrained('bert-base-uncased', num_labels=len(label2id)) # Initialize the model\n",
        "\n",
        "# ... (rest of your code, including training and saving)\n",
        "\n",
        "# Save the fine-tuned model to a local directory\n",
        "model.save_pretrained(\"/content/chatbot\")\n",
        "tokenizer.save_pretrained(\"/content/chatbot\")\n",
        "\n",
        "# Update the model_path\n",
        "model_path = \"/content/chatbot\""
      ]
    },
    {
      "cell_type": "code",
      "execution_count": null,
      "metadata": {
        "id": "B-4DtckC1CEX"
      },
      "outputs": [],
      "source": [
        "def predict(text):\n",
        "    inputs = tokenizer(text, padding=True, truncation=True, max_length=512, return_tensors=\"pt\")\n",
        "    # Ensure model is on the correct device if using GPU\n",
        "    if model.device.type == 'cuda':  # Check if model is on CUDA\n",
        "        inputs = {k: v.to(model.device) for k, v in inputs.items()}\n",
        "    outputs = model(**inputs)\n",
        "\n",
        "    # Check if the output tensor is empty before applying argmax\n",
        "    if outputs[0].numel() == 0:\n",
        "        print(\"Warning: Model produced an empty output tensor.\")\n",
        "        return None, None, None  # Or handle the empty output in a suitable way\n",
        "\n",
        "    probs = outputs[0].softmax(1)\n",
        "    pred_label_idx = probs.argmax()\n",
        "\n",
        "    # Check if id2label is defined in the model config\n",
        "    if hasattr(model.config, 'id2label') and pred_label_idx.item() in model.config.id2label:\n",
        "        pred_label = model.config.id2label[pred_label_idx.item()]\n",
        "    else:\n",
        "        print(\"Warning: id2label mapping is missing or incomplete.\")\n",
        "        pred_label = None  # Or handle the missing mapping in a suitable way\n",
        "\n",
        "    return probs, pred_label_idx, pred_label"
      ]
    },
    {
      "cell_type": "markdown",
      "metadata": {
        "id": "BPcG6vVVUujt"
      },
      "source": [
        "<a id=\"15\"></a>\n",
        "## <b>15 <span style='color:#B21010'>||</span> Chat with the Chatbot</b>\n"
      ]
    },
    {
      "cell_type": "code",
      "execution_count": null,
      "metadata": {
        "id": "IObCYfg8Uuju"
      },
      "outputs": [],
      "source": [
        "def chat(chatbot):\n",
        "\n",
        "    print(\"Chatbot: Hi! I am your virtual assistance,Feel free to ask, and I'll do my best to provide you with answers and assistance..\")\n",
        "    print(\"Type 'quit' to exit the chat\\n\\n\")\n",
        "\n",
        "    text = input(\"User: \").strip().lower()\n",
        "\n",
        "    while(text != 'quit'):\n",
        "\n",
        "        score = chatbot(text)[0]['score']\n",
        "\n",
        "        if score < 0.8:\n",
        "            print(\"Chatbot: Sorry I can't answer that\\n\\n\")\n",
        "            text = input(\"User: \").strip().lower()\n",
        "            continue\n",
        "\n",
        "        label = label2id[chatbot(text)[0]['label']]\n",
        "        response = random.choice(intents['intents'][label]['responses'])\n",
        "\n",
        "        print(f\"Chatbot: {response}\\n\\n\")\n",
        "\n",
        "        text = input(\"User: \").strip().lower()\n"
      ]
    },
    {
      "cell_type": "code",
      "execution_count": null,
      "metadata": {
        "id": "QGEx5I2TcGVu"
      },
      "outputs": [],
      "source": [
        "# This section loads the necessary libraries\n",
        "from transformers import pipeline, BertTokenizerFast, BertForSequenceClassification\n",
        "# ... other imports\n",
        "# Update the model_path\n",
        "model_path = \"/content/chatbot\"\n",
        "# Load the tokenizer and model\n",
        "tokenizer = BertTokenizerFast.from_pretrained(model_path)\n",
        "model = BertForSequenceClassification.from_pretrained(model_path)\n",
        "\n",
        "# Create a pipeline for text classification, assigning it to 'chatbot"
      ]
    },
    {
      "cell_type": "code",
      "execution_count": null,
      "metadata": {
        "colab": {
          "base_uri": "https://localhost:8080/"
        },
        "id": "uBOxEE9GcYXR",
        "outputId": "02815797-b5d5-4767-d06a-a120b57c7acd"
      },
      "outputs": [
        {
          "output_type": "stream",
          "name": "stderr",
          "text": [
            "Device set to use cpu\n"
          ]
        }
      ],
      "source": [
        "# This section loads the necessary libraries\n",
        "from transformers import pipeline, BertTokenizerFast, BertForSequenceClassification\n",
        "# ... other imports\n",
        "# Update the model_path\n",
        "model_path = \"/content/chatbot\"\n",
        "# Load the tokenizer and model\n",
        "tokenizer = BertTokenizerFast.from_pretrained(model_path)\n",
        "model = BertForSequenceClassification.from_pretrained(model_path)\n",
        "\n",
        "# Create a pipeline for text classification, assigning it to 'chatbot'\n",
        "chatbot = pipeline(\"text-classification\", model=model, tokenizer=tokenizer) # This line creates and assigns the pipeline"
      ]
    },
    {
      "cell_type": "code",
      "execution_count": null,
      "metadata": {
        "id": "ZdT9SFxiee1z"
      },
      "outputs": [],
      "source": [
        "def predict(text):\n",
        "    inputs = tokenizer(text, padding=True, truncation=True, max_length=512, return_tensors=\"pt\")\n",
        "    # Ensure model is on the correct device if using GPU\n",
        "    if model.device.type == 'cuda':  # Check if model is on CUDA\n",
        "        inputs = {k: v.to(model.device) for k, v in inputs.items()}\n",
        "    outputs = model(**inputs)\n",
        "\n",
        "    # Check if the output tensor is empty before applying argmax\n",
        "    if outputs[0].numel() == 0:\n",
        "        print(\"Warning: Model produced an empty output tensor.\")\n",
        "        return None, None, None  # Or handle the empty output in a suitable way\n",
        "\n",
        "    probs = outputs[0].softmax(1)\n",
        "    pred_label_idx = probs.argmax()\n",
        "\n",
        "    # Check if id2label is defined in the model config\n",
        "    if hasattr(model.config, 'id2label') and pred_label_idx.item() in model.config.id2label:\n",
        "        pred_label = model.config.id2label[pred_label_idx.item()]\n",
        "    else:\n",
        "        print(\"Warning: id2label mapping is missing or incomplete.\")\n",
        "        pred_label = None  # Or handle the missing mapping in a suitable way\n",
        "\n",
        "    return probs, pred_label_idx, pred_label\n",
        "\n",
        "def chat(chatbot):\n",
        "\n",
        "    print(\"Chatbot: Hi! I am your virtual assistance,Feel free to ask, and I'll do my best to provide you with answers and assistance..\")\n",
        "    print(\"Type 'quit' to exit the chat\\n\\n\")\n",
        "\n",
        "    text = input(\"User: \").strip().lower()\n",
        "\n",
        "    while(text != 'quit'):\n",
        "        # Call predict function and handle potential empty output\n",
        "        probs, pred_label_idx, pred_label = predict(text)\n",
        "\n",
        "        # Check if prediction was successful\n",
        "        if probs is None:\n",
        "            print(\"Chatbot: Sorry, I couldn't understand your request.\\n\\n\")\n",
        "            text = input(\"User: \").strip().lower()\n",
        "            continue\n",
        "\n",
        "        score = probs[0][pred_label_idx].item()  # Get the score for the predicted label\n",
        "\n",
        "        if score < 0.8:\n",
        "            print(\"Chatbot: Sorry I can't answer that\\n\\n\")\n",
        "            text = input(\"User: \").strip().lower()\n",
        "            continue\n",
        "\n",
        "        # Assuming chatbot(text) returns a list of dictionaries, and you want the 'label' from the first dictionary\n",
        "        label = label2id[pred_label]  # Use the predicted label from predict function\n",
        "        response = random.choice(intents['intents'][label]['responses'])\n",
        "\n",
        "        print(f\"Chatbot: {response}\\n\\n\")\n",
        "\n",
        "        text = input(\"User: \").strip().lower()"
      ]
    },
    {
      "cell_type": "code",
      "execution_count": null,
      "metadata": {
        "colab": {
          "base_uri": "https://localhost:8080/"
        },
        "id": "aRO6vBkmejyp",
        "outputId": "72d6c023-038b-40fc-927f-c1835db99156"
      },
      "outputs": [
        {
          "name": "stdout",
          "output_type": "stream",
          "text": [
            "Chatbot: Hi! I am your virtual assistance,Feel free to ask, and I'll do my best to provide you with answers and assistance..\n",
            "Type 'quit' to exit the chat\n",
            "\n",
            "\n",
            "User: quit\n"
          ]
        }
      ],
      "source": [
        "chat(chatbot)"
      ]
    }
  ]
}